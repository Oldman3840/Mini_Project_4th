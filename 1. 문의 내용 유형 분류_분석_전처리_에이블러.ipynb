{
  "cells": [
    {
      "cell_type": "markdown",
      "metadata": {
        "id": "view-in-github",
        "colab_type": "text"
      },
      "source": [
        "<a href=\"https://colab.research.google.com/github/Oldman3840/Mini_Project_4th/blob/main/1.%20%EB%AC%B8%EC%9D%98%20%EB%82%B4%EC%9A%A9%20%EC%9C%A0%ED%98%95%20%EB%B6%84%EB%A5%98_%EB%B6%84%EC%84%9D_%EC%A0%84%EC%B2%98%EB%A6%AC_%EC%97%90%EC%9D%B4%EB%B8%94%EB%9F%AC.ipynb\" target=\"_parent\"><img src=\"https://colab.research.google.com/assets/colab-badge.svg\" alt=\"Open In Colab\"/></a>"
      ]
    },
    {
      "cell_type": "markdown",
      "metadata": {
        "id": "DQFmelHqMtFn"
      },
      "source": [
        "# **미니프로젝트 4차 1대1 문의 내용 유형 분류기**\n",
        "# 단계1 : 데이터 탐색\n",
        "\n",
        "### 문제 정의\n",
        "> 1:1 문의 내용 분류 문제<br>\n",
        "> 1. 문의 내용 분석\n",
        "> 2. 문의 내용 분류 모델 성능 평가\n",
        "### 학습 데이터\n",
        "> * 1:1 문의 내용 데이터 : train.csv\n",
        "\n",
        "### 변수 소개\n",
        "> * text : 문의 내용\n",
        "> * label : 문의 유형\n",
        "\n",
        "### References\n",
        "> * 한국어 처리\n",
        ">> * [konlpy - 한국어 처리 라이브러리](https://konlpy.org/ko/latest/)\n",
        ">> * [한국어 품사 태그 비교표](https://docs.google.com/spreadsheets/d/1OGAjUvalBuX-oZvZ_-9tEfYD2gQe7hTGsgUpiiBSXI8/edit#gid=0)\n",
        ">> * [한국어 품사 태깅 성능 비교](https://konlpy.org/ko/latest/morph/#comparison-between-pos-tagging-classes)\n",
        ">> * [한국어 시스템 사전](https://konlpy.org/ko/latest/data/#corpora)\n",
        "\n",
        "> * 자연어 처리\n",
        ">> * [NLTK](https://www.nltk.org/book/)\n",
        ">> * [gensim](https://radimrehurek.com/gensim/)\n",
        ">> * [Google guide](https://developers.google.com/machine-learning/guides/text-classification/step-2)\n",
        ">> * [WordCloud](https://amueller.github.io/word_cloud/)"
      ]
    },
    {
      "cell_type": "markdown",
      "metadata": {
        "id": "dWToio0hXNVS"
      },
      "source": [
        "## 1. 개발 환경 설정"
      ]
    },
    {
      "cell_type": "markdown",
      "metadata": {
        "id": "I_rCs78QJZmI"
      },
      "source": [
        "* 세부 요구사항\n",
        "  - 기본적으로 필요한 라이브러리를 import 하도록 코드가 작성되어 있습니다.\n",
        "  - 필요하다고 판단되는 라이브러리를 추가하세요.\n",
        "  - konlpy, mecab 설치 후 형태소 분석 함수 생성\n",
        "  - mecab 설치할 때 윈도우 pc에서 설치는 다른 방법으로 진행\n",
        "  - 윈도우 환경일 경우 KoNLPy의 라이브러리 설치가 제대로 이루어지지 않을 수 있습니다\n",
        "  - 윈도우 설치를 위한 참고 링크\n",
        "    - https://liveyourit.tistory.com/56"
      ]
    },
    {
      "cell_type": "markdown",
      "metadata": {
        "id": "4-m9DUCeMI6J"
      },
      "source": [
        "### 1-1. 라이브러리 설치"
      ]
    },
    {
      "cell_type": "code",
      "execution_count": 1,
      "metadata": {
        "id": "GjS5rx10MI6J",
        "outputId": "ca61ae4c-4cfc-45e1-a288-5b6ac3772f77",
        "colab": {
          "base_uri": "https://localhost:8080/"
        }
      },
      "outputs": [
        {
          "output_type": "stream",
          "name": "stdout",
          "text": [
            "Looking in indexes: https://pypi.org/simple, https://us-python.pkg.dev/colab-wheels/public/simple/\n",
            "Requirement already satisfied: konlpy in /usr/local/lib/python3.9/dist-packages (0.6.0)\n",
            "Requirement already satisfied: pandas in /usr/local/lib/python3.9/dist-packages (1.4.4)\n",
            "Requirement already satisfied: seaborn in /usr/local/lib/python3.9/dist-packages (0.12.2)\n",
            "Requirement already satisfied: gensim in /usr/local/lib/python3.9/dist-packages (4.3.1)\n",
            "Requirement already satisfied: wordcloud in /usr/local/lib/python3.9/dist-packages (1.8.2.2)\n",
            "Requirement already satisfied: python-mecab-ko in /usr/local/lib/python3.9/dist-packages (1.3.3)\n",
            "Requirement already satisfied: wget in /usr/local/lib/python3.9/dist-packages (3.2)\n",
            "Requirement already satisfied: numpy>=1.6 in /usr/local/lib/python3.9/dist-packages (from konlpy) (1.22.4)\n",
            "Requirement already satisfied: lxml>=4.1.0 in /usr/local/lib/python3.9/dist-packages (from konlpy) (4.9.2)\n",
            "Requirement already satisfied: JPype1>=0.7.0 in /usr/local/lib/python3.9/dist-packages (from konlpy) (1.4.1)\n",
            "Requirement already satisfied: pytz>=2020.1 in /usr/local/lib/python3.9/dist-packages (from pandas) (2022.7.1)\n",
            "Requirement already satisfied: python-dateutil>=2.8.1 in /usr/local/lib/python3.9/dist-packages (from pandas) (2.8.2)\n",
            "Requirement already satisfied: matplotlib!=3.6.1,>=3.1 in /usr/local/lib/python3.9/dist-packages (from seaborn) (3.7.1)\n",
            "Requirement already satisfied: smart-open>=1.8.1 in /usr/local/lib/python3.9/dist-packages (from gensim) (6.3.0)\n",
            "Requirement already satisfied: scipy>=1.7.0 in /usr/local/lib/python3.9/dist-packages (from gensim) (1.10.1)\n",
            "Requirement already satisfied: pillow in /usr/local/lib/python3.9/dist-packages (from wordcloud) (8.4.0)\n",
            "Requirement already satisfied: python-mecab-ko-dic in /usr/local/lib/python3.9/dist-packages (from python-mecab-ko) (2.1.1.post2)\n",
            "Requirement already satisfied: packaging in /usr/local/lib/python3.9/dist-packages (from JPype1>=0.7.0->konlpy) (23.0)\n",
            "Requirement already satisfied: kiwisolver>=1.0.1 in /usr/local/lib/python3.9/dist-packages (from matplotlib!=3.6.1,>=3.1->seaborn) (1.4.4)\n",
            "Requirement already satisfied: fonttools>=4.22.0 in /usr/local/lib/python3.9/dist-packages (from matplotlib!=3.6.1,>=3.1->seaborn) (4.39.3)\n",
            "Requirement already satisfied: contourpy>=1.0.1 in /usr/local/lib/python3.9/dist-packages (from matplotlib!=3.6.1,>=3.1->seaborn) (1.0.7)\n",
            "Requirement already satisfied: pyparsing>=2.3.1 in /usr/local/lib/python3.9/dist-packages (from matplotlib!=3.6.1,>=3.1->seaborn) (3.0.9)\n",
            "Requirement already satisfied: cycler>=0.10 in /usr/local/lib/python3.9/dist-packages (from matplotlib!=3.6.1,>=3.1->seaborn) (0.11.0)\n",
            "Requirement already satisfied: importlib-resources>=3.2.0 in /usr/local/lib/python3.9/dist-packages (from matplotlib!=3.6.1,>=3.1->seaborn) (5.12.0)\n",
            "Requirement already satisfied: six>=1.5 in /usr/local/lib/python3.9/dist-packages (from python-dateutil>=2.8.1->pandas) (1.16.0)\n",
            "Requirement already satisfied: zipp>=3.1.0 in /usr/local/lib/python3.9/dist-packages (from importlib-resources>=3.2.0->matplotlib!=3.6.1,>=3.1->seaborn) (3.15.0)\n"
          ]
        }
      ],
      "source": [
        "# 필요 라이브러리부터 설치할께요.\n",
        "!pip install konlpy pandas seaborn gensim wordcloud python-mecab-ko wget"
      ]
    },
    {
      "cell_type": "markdown",
      "metadata": {
        "id": "aLdjtoHPMI6K"
      },
      "source": [
        "### 1-2. 라이브러리 import"
      ]
    },
    {
      "cell_type": "code",
      "execution_count": 2,
      "metadata": {
        "id": "0xLlcwByMI6K"
      },
      "outputs": [],
      "source": [
        "from mecab import MeCab\n",
        "import numpy as np\n",
        "import matplotlib.pyplot as plt\n",
        "import seaborn as sns\n",
        "import pandas as pd\n",
        "from IPython.display import display\n",
        "import matplotlib.pyplot as plt\n",
        "import matplotlib.font_manager as fm\n",
        "from wordcloud import WordCloud\n",
        "from collections import Counter\n",
        "import wget, os\n",
        "from konlpy.tag import *\n",
        "\n",
        "plt.rc('font', family='NanumBarunGothic') "
      ]
    },
    {
      "cell_type": "markdown",
      "metadata": {
        "id": "BvgZfGfPMI6K"
      },
      "source": [
        "### 1-3. 한글 글꼴 설정(Windows)"
      ]
    },
    {
      "cell_type": "code",
      "execution_count": 3,
      "metadata": {
        "id": "EcospoR6MI6K"
      },
      "outputs": [],
      "source": [
        "# if not os.path.exists(\"malgun.ttf\"): \n",
        "#     wget.download(\"https://www.wfonts.com/download/data/2016/06/13/malgun-gothic/malgun.ttf\")\n",
        "# if 'malgun' not in fm.fontManager.findfont(\"Malgun Gothic\"):\n",
        "#     fm.fontManager.addfont(\"malgun.ttf\")\n",
        "# if plt.rcParams['font.family']!= [\"Malgun Gothic\"]:\n",
        "#     plt.rcParams['font.family']= [font for font in fm.fontManager.ttflist if 'malgun.ttf' in font.fname][-1].name\n",
        "# plt.rcParams['axes.unicode_minus'] = False #한글 폰트 사용시 마이너스 폰트 깨짐 해결\n",
        "# assert plt.rcParams['font.family'] == [\"Malgun Gothic\"], \"한글 폰트가 설정되지 않았습니다.\"\n",
        "# FONT_PATH = \"malgun.ttf\""
      ]
    },
    {
      "cell_type": "markdown",
      "metadata": {
        "id": "vAnXmjTkMI6K"
      },
      "source": [
        "### 1-4. 자바 경로 설정(Windows)"
      ]
    },
    {
      "cell_type": "code",
      "execution_count": 4,
      "metadata": {
        "id": "pATB6gQHMI6L"
      },
      "outputs": [],
      "source": [
        "# os.environ['JAVA_HOME'] = \"C:\\Program Files\\Java\\jdk-19\""
      ]
    },
    {
      "cell_type": "markdown",
      "metadata": {
        "id": "ariFIXyYMI6L"
      },
      "source": [
        "### 1-3. 한글 글꼴 설정(Colab)"
      ]
    },
    {
      "cell_type": "code",
      "execution_count": 5,
      "metadata": {
        "id": "b0vkIMheMI6L",
        "outputId": "f4dde7ff-7c16-4ca9-d547-de1709cd75cf",
        "colab": {
          "base_uri": "https://localhost:8080/"
        }
      },
      "outputs": [
        {
          "output_type": "stream",
          "name": "stdout",
          "text": [
            "Reading package lists... Done\n",
            "Building dependency tree       \n",
            "Reading state information... Done\n",
            "fonts-nanum is already the newest version (20180306-3).\n",
            "0 upgraded, 0 newly installed, 0 to remove and 24 not upgraded.\n"
          ]
        }
      ],
      "source": [
        "!sudo apt-get install -y fonts-nanum"
      ]
    },
    {
      "cell_type": "code",
      "execution_count": 6,
      "metadata": {
        "id": "GjDXlRMXMI6L",
        "outputId": "2e898a61-c4cf-4274-b369-ecc7c46cd1a1",
        "colab": {
          "base_uri": "https://localhost:8080/"
        }
      },
      "outputs": [
        {
          "output_type": "stream",
          "name": "stdout",
          "text": [
            "NanumGothic\n"
          ]
        }
      ],
      "source": [
        "FONT_PATH = '/usr/share/fonts/truetype/nanum/NanumGothic.ttf'\n",
        "font_name = fm.FontProperties(fname=FONT_PATH, size=10).get_name()\n",
        "print(font_name)\n",
        "plt.rcParams['font.family']=font_name\n",
        "assert plt.rcParams['font.family'] == [font_name], \"한글 폰트가 설정되지 않았습니다.\""
      ]
    },
    {
      "cell_type": "code",
      "source": [
        "!sudo apt-get install -y fonts-nanum\n",
        "!sudo fc-cache -fv\n",
        "!rm ~/.cache/matplotlib -rf"
      ],
      "metadata": {
        "id": "HGE6UprlI-Cc",
        "outputId": "428ad7bb-7f23-4437-e1bb-4bbaaa567b0f",
        "colab": {
          "base_uri": "https://localhost:8080/"
        }
      },
      "execution_count": 7,
      "outputs": [
        {
          "output_type": "stream",
          "name": "stdout",
          "text": [
            "Reading package lists... Done\n",
            "Building dependency tree       \n",
            "Reading state information... Done\n",
            "fonts-nanum is already the newest version (20180306-3).\n",
            "0 upgraded, 0 newly installed, 0 to remove and 24 not upgraded.\n",
            "/usr/share/fonts: caching, new cache contents: 0 fonts, 1 dirs\n",
            "/usr/share/fonts/truetype: caching, new cache contents: 0 fonts, 3 dirs\n",
            "/usr/share/fonts/truetype/humor-sans: caching, new cache contents: 1 fonts, 0 dirs\n",
            "/usr/share/fonts/truetype/liberation: caching, new cache contents: 16 fonts, 0 dirs\n",
            "/usr/share/fonts/truetype/nanum: caching, new cache contents: 10 fonts, 0 dirs\n",
            "/usr/local/share/fonts: caching, new cache contents: 0 fonts, 0 dirs\n",
            "/root/.local/share/fonts: skipping, no such directory\n",
            "/root/.fonts: skipping, no such directory\n",
            "/usr/share/fonts/truetype: skipping, looped directory detected\n",
            "/usr/share/fonts/truetype/humor-sans: skipping, looped directory detected\n",
            "/usr/share/fonts/truetype/liberation: skipping, looped directory detected\n",
            "/usr/share/fonts/truetype/nanum: skipping, looped directory detected\n",
            "/var/cache/fontconfig: cleaning cache directory\n",
            "/root/.cache/fontconfig: not cleaning non-existent cache directory\n",
            "/root/.fontconfig: not cleaning non-existent cache directory\n",
            "fc-cache: succeeded\n"
          ]
        }
      ]
    },
    {
      "cell_type": "markdown",
      "metadata": {
        "id": "S0yzHcH6fdzJ"
      },
      "source": [
        "### 1-4. 구글드라이브 연결(Colab)"
      ]
    },
    {
      "cell_type": "code",
      "execution_count": 8,
      "metadata": {
        "id": "dd0SPbYdfhS9",
        "outputId": "63eaeabb-1f61-421d-c414-dafdac3e68c5",
        "colab": {
          "base_uri": "https://localhost:8080/"
        }
      },
      "outputs": [
        {
          "output_type": "stream",
          "name": "stdout",
          "text": [
            "Mounted at /content/drive\n"
          ]
        }
      ],
      "source": [
        "from google.colab import drive\n",
        "drive.mount('/content/drive')"
      ]
    },
    {
      "cell_type": "markdown",
      "metadata": {
        "id": "bA-eHXdwBDCz"
      },
      "source": [
        "## 2.데이터 불러오기"
      ]
    },
    {
      "cell_type": "markdown",
      "metadata": {
        "id": "9OkifR5rnr2D"
      },
      "source": [
        "* 주어진 데이터\n",
        " - 학습 및 검증용 데이터 : train.csv"
      ]
    },
    {
      "cell_type": "markdown",
      "metadata": {
        "id": "pSbNaqTSZpDZ"
      },
      "source": [
        "### 2-1. 데이터 로딩\n",
        "\n",
        "* 다음 데이터를 불러옵니다.\n",
        "    * 학습 및 검증용 데이터 : train.csv\n",
        "    * shape를 확인합니다."
      ]
    },
    {
      "cell_type": "code",
      "execution_count": 9,
      "metadata": {
        "id": "j9cJwS3DMI6L"
      },
      "outputs": [],
      "source": [
        "path = '/content/drive/MyDrive/KT_Aivle_School/Data/4th_mini_project/train.csv'\n",
        "\n",
        "data = pd.read_csv(path)"
      ]
    },
    {
      "cell_type": "markdown",
      "metadata": {
        "id": "oSaZ_CYQMI6M"
      },
      "source": [
        "### 2-2. 데이터 확인하기\n",
        "* 문의 유형 분포 확인\n",
        "* data type, 결측치 확인"
      ]
    },
    {
      "cell_type": "code",
      "execution_count": 10,
      "metadata": {
        "id": "Amd1_VGMMI6M",
        "outputId": "5038bf77-27fe-416f-dc96-37909e28ef3b",
        "colab": {
          "base_uri": "https://localhost:8080/",
          "height": 423
        }
      },
      "outputs": [
        {
          "output_type": "execute_result",
          "data": {
            "text/plain": [
              "                                                   text   label\n",
              "0     self.convs1 = nn.ModuleList([nn.Conv2d(1, Co, ...     코드2\n",
              "1     현재 이미지를 여러개 업로드 하기 위해 자바스크립트로 동적으로 폼 여러개 생성하는데...       웹\n",
              "2     glob.glob(PATH) 를 사용할 때 질문입니다.\\n\\nPATH에 [ ] 가 ...     코드2\n",
              "3     tmpp = tmp.groupby(by = 'Addr1', as_index=Fals...     코드2\n",
              "4     filename = TEST_IMAGE + str(round(frame_sec)) ...     코드2\n",
              "...                                                 ...     ...\n",
              "3701  토큰화 이후 train val 를 분리하고 각 train set, val set에 ...     코드2\n",
              "3702  올린 값들 중 최고점인 건가요? 아니면 최근에 올린 파일로 무조건 갱신인가요?\\n최...  시스템 운영\n",
              "3703  수업에서 cacoo랑 packet tracer를 배우는 이유가\\n\\n1. IT 인프...      이론\n",
              "3704  inplace =True 해도 값이 변경이 안되고 none으로 뜹니다. 혹시 원격지...      원격\n",
              "3705  상관관계는 그렇게 크지 않게 나오는데 p -value 값은 관련이 있게 나오는데 \\...      이론\n",
              "\n",
              "[3706 rows x 2 columns]"
            ],
            "text/html": [
              "\n",
              "  <div id=\"df-daf67a5b-b614-4631-a3fc-38056ce07481\">\n",
              "    <div class=\"colab-df-container\">\n",
              "      <div>\n",
              "<style scoped>\n",
              "    .dataframe tbody tr th:only-of-type {\n",
              "        vertical-align: middle;\n",
              "    }\n",
              "\n",
              "    .dataframe tbody tr th {\n",
              "        vertical-align: top;\n",
              "    }\n",
              "\n",
              "    .dataframe thead th {\n",
              "        text-align: right;\n",
              "    }\n",
              "</style>\n",
              "<table border=\"1\" class=\"dataframe\">\n",
              "  <thead>\n",
              "    <tr style=\"text-align: right;\">\n",
              "      <th></th>\n",
              "      <th>text</th>\n",
              "      <th>label</th>\n",
              "    </tr>\n",
              "  </thead>\n",
              "  <tbody>\n",
              "    <tr>\n",
              "      <th>0</th>\n",
              "      <td>self.convs1 = nn.ModuleList([nn.Conv2d(1, Co, ...</td>\n",
              "      <td>코드2</td>\n",
              "    </tr>\n",
              "    <tr>\n",
              "      <th>1</th>\n",
              "      <td>현재 이미지를 여러개 업로드 하기 위해 자바스크립트로 동적으로 폼 여러개 생성하는데...</td>\n",
              "      <td>웹</td>\n",
              "    </tr>\n",
              "    <tr>\n",
              "      <th>2</th>\n",
              "      <td>glob.glob(PATH) 를 사용할 때 질문입니다.\\n\\nPATH에 [ ] 가 ...</td>\n",
              "      <td>코드2</td>\n",
              "    </tr>\n",
              "    <tr>\n",
              "      <th>3</th>\n",
              "      <td>tmpp = tmp.groupby(by = 'Addr1', as_index=Fals...</td>\n",
              "      <td>코드2</td>\n",
              "    </tr>\n",
              "    <tr>\n",
              "      <th>4</th>\n",
              "      <td>filename = TEST_IMAGE + str(round(frame_sec)) ...</td>\n",
              "      <td>코드2</td>\n",
              "    </tr>\n",
              "    <tr>\n",
              "      <th>...</th>\n",
              "      <td>...</td>\n",
              "      <td>...</td>\n",
              "    </tr>\n",
              "    <tr>\n",
              "      <th>3701</th>\n",
              "      <td>토큰화 이후 train val 를 분리하고 각 train set, val set에 ...</td>\n",
              "      <td>코드2</td>\n",
              "    </tr>\n",
              "    <tr>\n",
              "      <th>3702</th>\n",
              "      <td>올린 값들 중 최고점인 건가요? 아니면 최근에 올린 파일로 무조건 갱신인가요?\\n최...</td>\n",
              "      <td>시스템 운영</td>\n",
              "    </tr>\n",
              "    <tr>\n",
              "      <th>3703</th>\n",
              "      <td>수업에서 cacoo랑 packet tracer를 배우는 이유가\\n\\n1. IT 인프...</td>\n",
              "      <td>이론</td>\n",
              "    </tr>\n",
              "    <tr>\n",
              "      <th>3704</th>\n",
              "      <td>inplace =True 해도 값이 변경이 안되고 none으로 뜹니다. 혹시 원격지...</td>\n",
              "      <td>원격</td>\n",
              "    </tr>\n",
              "    <tr>\n",
              "      <th>3705</th>\n",
              "      <td>상관관계는 그렇게 크지 않게 나오는데 p -value 값은 관련이 있게 나오는데 \\...</td>\n",
              "      <td>이론</td>\n",
              "    </tr>\n",
              "  </tbody>\n",
              "</table>\n",
              "<p>3706 rows × 2 columns</p>\n",
              "</div>\n",
              "      <button class=\"colab-df-convert\" onclick=\"convertToInteractive('df-daf67a5b-b614-4631-a3fc-38056ce07481')\"\n",
              "              title=\"Convert this dataframe to an interactive table.\"\n",
              "              style=\"display:none;\">\n",
              "        \n",
              "  <svg xmlns=\"http://www.w3.org/2000/svg\" height=\"24px\"viewBox=\"0 0 24 24\"\n",
              "       width=\"24px\">\n",
              "    <path d=\"M0 0h24v24H0V0z\" fill=\"none\"/>\n",
              "    <path d=\"M18.56 5.44l.94 2.06.94-2.06 2.06-.94-2.06-.94-.94-2.06-.94 2.06-2.06.94zm-11 1L8.5 8.5l.94-2.06 2.06-.94-2.06-.94L8.5 2.5l-.94 2.06-2.06.94zm10 10l.94 2.06.94-2.06 2.06-.94-2.06-.94-.94-2.06-.94 2.06-2.06.94z\"/><path d=\"M17.41 7.96l-1.37-1.37c-.4-.4-.92-.59-1.43-.59-.52 0-1.04.2-1.43.59L10.3 9.45l-7.72 7.72c-.78.78-.78 2.05 0 2.83L4 21.41c.39.39.9.59 1.41.59.51 0 1.02-.2 1.41-.59l7.78-7.78 2.81-2.81c.8-.78.8-2.07 0-2.86zM5.41 20L4 18.59l7.72-7.72 1.47 1.35L5.41 20z\"/>\n",
              "  </svg>\n",
              "      </button>\n",
              "      \n",
              "  <style>\n",
              "    .colab-df-container {\n",
              "      display:flex;\n",
              "      flex-wrap:wrap;\n",
              "      gap: 12px;\n",
              "    }\n",
              "\n",
              "    .colab-df-convert {\n",
              "      background-color: #E8F0FE;\n",
              "      border: none;\n",
              "      border-radius: 50%;\n",
              "      cursor: pointer;\n",
              "      display: none;\n",
              "      fill: #1967D2;\n",
              "      height: 32px;\n",
              "      padding: 0 0 0 0;\n",
              "      width: 32px;\n",
              "    }\n",
              "\n",
              "    .colab-df-convert:hover {\n",
              "      background-color: #E2EBFA;\n",
              "      box-shadow: 0px 1px 2px rgba(60, 64, 67, 0.3), 0px 1px 3px 1px rgba(60, 64, 67, 0.15);\n",
              "      fill: #174EA6;\n",
              "    }\n",
              "\n",
              "    [theme=dark] .colab-df-convert {\n",
              "      background-color: #3B4455;\n",
              "      fill: #D2E3FC;\n",
              "    }\n",
              "\n",
              "    [theme=dark] .colab-df-convert:hover {\n",
              "      background-color: #434B5C;\n",
              "      box-shadow: 0px 1px 3px 1px rgba(0, 0, 0, 0.15);\n",
              "      filter: drop-shadow(0px 1px 2px rgba(0, 0, 0, 0.3));\n",
              "      fill: #FFFFFF;\n",
              "    }\n",
              "  </style>\n",
              "\n",
              "      <script>\n",
              "        const buttonEl =\n",
              "          document.querySelector('#df-daf67a5b-b614-4631-a3fc-38056ce07481 button.colab-df-convert');\n",
              "        buttonEl.style.display =\n",
              "          google.colab.kernel.accessAllowed ? 'block' : 'none';\n",
              "\n",
              "        async function convertToInteractive(key) {\n",
              "          const element = document.querySelector('#df-daf67a5b-b614-4631-a3fc-38056ce07481');\n",
              "          const dataTable =\n",
              "            await google.colab.kernel.invokeFunction('convertToInteractive',\n",
              "                                                     [key], {});\n",
              "          if (!dataTable) return;\n",
              "\n",
              "          const docLinkHtml = 'Like what you see? Visit the ' +\n",
              "            '<a target=\"_blank\" href=https://colab.research.google.com/notebooks/data_table.ipynb>data table notebook</a>'\n",
              "            + ' to learn more about interactive tables.';\n",
              "          element.innerHTML = '';\n",
              "          dataTable['output_type'] = 'display_data';\n",
              "          await google.colab.output.renderOutput(dataTable, element);\n",
              "          const docLink = document.createElement('div');\n",
              "          docLink.innerHTML = docLinkHtml;\n",
              "          element.appendChild(docLink);\n",
              "        }\n",
              "      </script>\n",
              "    </div>\n",
              "  </div>\n",
              "  "
            ]
          },
          "metadata": {},
          "execution_count": 10
        }
      ],
      "source": [
        "data"
      ]
    },
    {
      "cell_type": "code",
      "source": [
        "data.info()"
      ],
      "metadata": {
        "id": "qNRsJXKuX_oH",
        "outputId": "ed775072-46da-464f-ab8c-ada78d9c6a56",
        "colab": {
          "base_uri": "https://localhost:8080/"
        }
      },
      "execution_count": 11,
      "outputs": [
        {
          "output_type": "stream",
          "name": "stdout",
          "text": [
            "<class 'pandas.core.frame.DataFrame'>\n",
            "RangeIndex: 3706 entries, 0 to 3705\n",
            "Data columns (total 2 columns):\n",
            " #   Column  Non-Null Count  Dtype \n",
            "---  ------  --------------  ----- \n",
            " 0   text    3706 non-null   object\n",
            " 1   label   3706 non-null   object\n",
            "dtypes: object(2)\n",
            "memory usage: 58.0+ KB\n"
          ]
        }
      ]
    },
    {
      "cell_type": "code",
      "source": [
        "data.isnull().sum()"
      ],
      "metadata": {
        "id": "hisAN1xNYA23",
        "outputId": "31cda2fb-ce18-47ed-948a-24f11f63cf81",
        "colab": {
          "base_uri": "https://localhost:8080/"
        }
      },
      "execution_count": 12,
      "outputs": [
        {
          "output_type": "execute_result",
          "data": {
            "text/plain": [
              "text     0\n",
              "label    0\n",
              "dtype: int64"
            ]
          },
          "metadata": {},
          "execution_count": 12
        }
      ]
    },
    {
      "cell_type": "markdown",
      "metadata": {
        "id": "5U2AP87sMbD8"
      },
      "source": [
        "## 3.데이터 탐색하기\n"
      ]
    },
    {
      "cell_type": "markdown",
      "metadata": {
        "id": "TyhnUaTQMI6M"
      },
      "source": [
        "### 3-1. 문의 내용 길이 분포\n",
        "\n",
        "* 문의 내용의 길이 분포를 확인합니다.\n",
        "* 최소, 최대 길이의 index 및 문의 내용을 확인합니다."
      ]
    },
    {
      "cell_type": "code",
      "execution_count": null,
      "metadata": {
        "id": "itHSLNlkMI6M",
        "outputId": "c92f0af4-102d-420d-8dd8-066ae508b050",
        "colab": {
          "base_uri": "https://localhost:8080/"
        }
      },
      "outputs": [
        {
          "output_type": "stream",
          "name": "stdout",
          "text": [
            "최대 길이 문의 index: Int64Index([3384], dtype='int64') \n",
            "최대 길이 문장 내용: \n",
            "히스토그램과 바 그래프의 차이와 각각 어느 데이터의 경우에 대해 활용하면 좋을지 구분하여 알려주시면 감사하겠습니다.\n",
            "최소 길이 문의 index: Int64Index([230], dtype='int64') \n",
            "최소 길이 문장 내용: \n",
            "\n",
            "\n",
            "\n",
            "\n",
            "이 코드에서 어떤 부분이 틀린것인지에 대해서 잘 모르겠습니다.\n",
            "\n",
            "혹시 테스트케이스를 알수있을까요?\n",
            "\n",
            "# 깊이 우선탐색\n",
            "\n",
            "\n",
            "\n",
            "n,m = map(int,input().split())\n",
            "\n",
            "graph = [[] for _ in range(n+1)]\n",
            "\n",
            "for _ in range(m):\n",
            "    a,b = map(int,input().split())\n",
            "    graph[a].append(b)\n",
            "    graph[b].append(a)\n",
            "\n",
            "visited = []\n",
            "def dfs(start,graph,visited):\n",
            "    if start in visited:\n",
            "        return\n",
            "    visited.append(start)\n",
            "    \n",
            "    for node in graph[start]:\n",
            "        dfs(node,graph,visited)\n",
            "    return visited\n",
            "\n",
            "a = dfs(1,graph,visited)\n",
            "for i in a:\n",
            "    print(i,end = ' ')\n",
            "    \n",
            "    \n",
            "\n"
          ]
        }
      ],
      "source": [
        "max_str = data['text'].max()\n",
        "min_str = data['text'].min()\n",
        "\n",
        "max_str_idx = data.loc[data['text'] == max_str].index\n",
        "min_str_idx = data.loc[data['text'] == min_str].index\n",
        "\n",
        "print(f'최대 길이 문의 index: {max_str_idx} \\n최대 길이 문장 내용: \\n{max_str}')\n",
        "print(f'최소 길이 문의 index: {min_str_idx} \\n최소 길이 문장 내용: \\n{min_str}')"
      ]
    },
    {
      "cell_type": "markdown",
      "metadata": {
        "id": "d6x8kccCMI6M"
      },
      "source": [
        "### 3-2. 명사 추출하고 품사 태깅하기\n",
        "\n",
        "* konlpy, MeCab을 활용하여 품사 태깅, 명사 추출하기.\n",
        "* 2개 이상의 형태소 분석기를 Time analysis 해보기\n",
        "* Number of Samples / Number of words per sample 구해보기"
      ]
    },
    {
      "cell_type": "code",
      "execution_count": null,
      "metadata": {
        "id": "W0ECv_N5MI6M"
      },
      "outputs": [],
      "source": [
        "from konlpy.tag import *"
      ]
    },
    {
      "cell_type": "code",
      "source": [
        "def Text_Separator(array, operator):\n",
        "    nouns, pos = [], []\n",
        "    print(f'class {operator}의 PoS, 명사 추출 시간: ')\n",
        "    for n in array:\n",
        "        tmp = []\n",
        "        tmp = operator.nouns(n)\n",
        "        nouns.append(tmp)\n",
        "        tmp = operator.pos(n)\n",
        "        pos.append(tmp)\n",
        "\n",
        "    # nouns = np.concatenate(nouns).tolist()\n",
        "    # pos = np.concatenate(pos).tolist()\n",
        "\n",
        "    return nouns, pos\n",
        "      "
      ],
      "metadata": {
        "id": "JqZgaqNlajHy"
      },
      "execution_count": null,
      "outputs": []
    },
    {
      "cell_type": "code",
      "source": [
        "okt = Okt()\n",
        "mecab = MeCab()\n",
        "hannanum = Hannanum()\n",
        "kkma = Kkma()\n",
        "komoran = Komoran()"
      ],
      "metadata": {
        "id": "iEXKXaXuZxwQ"
      },
      "execution_count": null,
      "outputs": []
    },
    {
      "cell_type": "code",
      "source": [
        "%time okt_noun, okt_PoS = Text_Separator(data['text'].values, okt)\n",
        "%time mecab_noun, mecab_PoS = Text_Separator(data['text'].values, mecab)\n",
        "# %time hannanum_noun, hannanum_PoS = Text_Separator(data['text'].values, hannanum)\n",
        "# %time kkma_noun, kkma_PoS = Text_Separator(data['text'].values, kkma)\n",
        "# %time komoran_noun, komoran_PoS = Text_Separator(data['text'].values, komoran)"
      ],
      "metadata": {
        "id": "9uFl7gTItSRs",
        "outputId": "8cbd6597-d94f-46da-92cd-c48314eb2cc9",
        "colab": {
          "base_uri": "https://localhost:8080/"
        }
      },
      "execution_count": null,
      "outputs": [
        {
          "output_type": "stream",
          "name": "stdout",
          "text": [
            "class <konlpy.tag._okt.Okt object at 0x7f429c62a430>의 PoS, 명사 추출 시간: \n",
            "CPU times: user 1min 18s, sys: 515 ms, total: 1min 19s\n",
            "Wall time: 46.3 s\n",
            "class <mecab.mecab.MeCab object at 0x7f429c712340>의 PoS, 명사 추출 시간: \n",
            "CPU times: user 5.72 s, sys: 53.2 ms, total: 5.77 s\n",
            "Wall time: 5.3 s\n"
          ]
        }
      ]
    },
    {
      "cell_type": "markdown",
      "metadata": {
        "id": "1xlMEFqdMI6M"
      },
      "source": [
        "### 3-3. nltk로 텍스트 분석하기\n",
        "* 3-2.의 명사 추출, 품사 태깅한 데이터를 nltk Text로 변경하기\n",
        "* 각각 token 갯수 / 전체 token 비율(Type-Token Ratio) 알아보기\n",
        "* 각각 Frequency 확인 및 분포 시각화\n",
        "* 명사 추출한 데이터에서 코드, 웹, 이론, 원격, 시스템 등 관심있는 각 단어에 분석해보기\n",
        "* 각각 collocation 확인\n",
        "* 최소 길이 문의 내용에 대해 grammar pasing 해보기(아래 코드 활용)\n",
        "\n",
        "\n",
        "```python\n",
        "grammar = \"\"\"\n",
        "NP: {<N.*>*<Suffix>?}   # Noun phrase\n",
        "VP: {<V.*>*}            # Verb phrase\n",
        "AP: {<A.*>*}            # Adjective phrase\n",
        "\"\"\"\n",
        "NP_grammar = \"NP: {<Adjective>*<Noun>*}\"\n",
        "```"
      ]
    },
    {
      "cell_type": "code",
      "execution_count": null,
      "metadata": {
        "id": "zG9wqZ1SMI6M",
        "outputId": "844bc192-ed4f-42f4-f7ec-542baef8a4f8",
        "colab": {
          "base_uri": "https://localhost:8080/"
        }
      },
      "outputs": [
        {
          "output_type": "stream",
          "name": "stdout",
          "text": [
            "63167\n",
            "3865\n",
            "0.06118701220574034\n",
            "57025\n",
            "3423\n",
            "0.060026304252520826\n",
            "okt frequency distribution: <FreqDist with 3865 samples and 63167 outcomes>\n",
            "mecab frequency distribution: <FreqDist with 3423 samples and 57025 outcomes>\n"
          ]
        }
      ],
      "source": [
        "# * 3-2.의 명사 추출, 품사 태깅한 데이터를 nltk Text로 변경하기\n",
        "import nltk\n",
        "from nltk.tokenize import word_tokenize\n",
        "\n",
        "okt_nouns_list = np.concatenate(okt_noun).tolist()\n",
        "mecab_nouns_list = np.concatenate(mecab_noun).tolist()\n",
        "# pos = np.concatenate(pos).tolist()\n",
        "\n",
        "nt_okt_nouns = nltk.Text(okt_nouns_list)\n",
        "nt_mecab_nouns = nltk.Text(mecab_nouns_list)\n",
        "\n",
        "# * 각각 token 갯수 / 전체 token 비율(Type-Token Ratio) 알아보기\n",
        "print(len(nt_okt_nouns))\n",
        "print(len(set(nt_okt_nouns)))\n",
        "print(len(set(nt_okt_nouns)) / len(nt_okt_nouns))\n",
        "print(len(nt_mecab_nouns))\n",
        "print(len(set(nt_mecab_nouns)))\n",
        "print(len(set(nt_mecab_nouns)) / len(nt_mecab_nouns))\n",
        "\n",
        "print(f'okt frequency distribution: {nt_okt_nouns.vocab()}')\n",
        "print(f'mecab frequency distribution: {nt_mecab_nouns.vocab()}')"
      ]
    },
    {
      "cell_type": "code",
      "source": [
        "# * 각각 Frequency 확인 및 분포 시각화\n",
        "nt_okt_nouns.plot(20)\n",
        "nt_mecab_nouns.plot(20)"
      ],
      "metadata": {
        "id": "UEKgMNJt2EaH",
        "outputId": "0fceba78-4a63-4eb8-8167-ed1f82f0d20f",
        "colab": {
          "base_uri": "https://localhost:8080/",
          "height": 947
        }
      },
      "execution_count": null,
      "outputs": [
        {
          "output_type": "display_data",
          "data": {
            "text/plain": [
              "<Figure size 640x480 with 1 Axes>"
            ],
            "image/png": "[encoded data removed]"
          },
          "metadata": {}
        },
        {
          "output_type": "display_data",
          "data": {
            "text/plain": [
              "<Figure size 640x480 with 1 Axes>"
            ],
            "image/png": "[encoded data removed]"
          },
          "metadata": {}
        },
        {
          "output_type": "execute_result",
          "data": {
            "text/plain": [
              "<Axes: xlabel='Samples', ylabel='Counts'>"
            ]
          },
          "metadata": {},
          "execution_count": 20
        }
      ]
    },
    {
      "cell_type": "code",
      "source": [
        "nt_okt_pos = nltk.Text(okt_PoS)\n",
        "nt_mecab_pos = nltk.Text(mecab_PoS)"
      ],
      "metadata": {
        "id": "4jBXm8RCQ1SY"
      },
      "execution_count": null,
      "outputs": []
    },
    {
      "cell_type": "code",
      "source": [
        "from nltk import FreqDist"
      ],
      "metadata": {
        "id": "vZSrLNP3W6e0"
      },
      "execution_count": null,
      "outputs": []
    },
    {
      "cell_type": "code",
      "source": [
        "fd_okt = FreqDist(okt_PoS[0])"
      ],
      "metadata": {
        "id": "dQ6zr-wbcETa"
      },
      "execution_count": null,
      "outputs": []
    },
    {
      "cell_type": "code",
      "source": [
        "fd_okt.most_common(30)"
      ],
      "metadata": {
        "id": "I-qeoKJjcNe-",
        "outputId": "1755452d-59f8-491c-b678-50314c547136",
        "colab": {
          "base_uri": "https://localhost:8080/"
        }
      },
      "execution_count": null,
      "outputs": [
        {
          "output_type": "execute_result",
          "data": {
            "text/plain": [
              "[(('.', 'Punctuation'), 5),\n",
              " ((',', 'Punctuation'), 4),\n",
              " (('100', 'Number'), 4),\n",
              " (('1', 'Number'), 3),\n",
              " (('K', 'Alpha'), 3),\n",
              " (('nn', 'Alpha'), 2),\n",
              " (('(', 'Punctuation'), 2),\n",
              " (('으로', 'Josa'), 2),\n",
              " (('self', 'Alpha'), 1),\n",
              " (('convs', 'Alpha'), 1),\n",
              " (('=', 'Punctuation'), 1),\n",
              " (('ModuleList', 'Alpha'), 1),\n",
              " (('([', 'Punctuation'), 1),\n",
              " (('Conv', 'Alpha'), 1),\n",
              " (('2', 'Number'), 1),\n",
              " (('d', 'Alpha'), 1),\n",
              " (('Co', 'Alpha'), 1),\n",
              " (('))', 'Punctuation'), 1),\n",
              " (('for', 'Alpha'), 1),\n",
              " (('in', 'Alpha'), 1),\n",
              " (('Ks', 'Alpha'), 1),\n",
              " (('])', 'Punctuation'), 1),\n",
              " (('\\n', 'Foreign'), 1),\n",
              " (('여기', 'Noun'), 1),\n",
              " (('서', 'Josa'), 1),\n",
              " (('커널', 'Noun'), 1),\n",
              " (('사이즈', 'Noun'), 1),\n",
              " (('은', 'Noun'), 1),\n",
              " (('한', 'Verb'), 1),\n",
              " (('단어', 'Noun'), 1)]"
            ]
          },
          "metadata": {},
          "execution_count": 48
        }
      ]
    },
    {
      "cell_type": "code",
      "source": [
        "grammar = \"\"\"\n",
        "NP: {<N.*>*<Suffix>?}   # Noun phrase\n",
        "VP: {<V.*>*}            # Verb phrase\n",
        "AP: {<A.*>*}            # Adjective phrase\n",
        "\"\"\"\n",
        "NP_grammar = \"NP: {<Adjective>*<Noun>*}\"\n",
        "\n",
        "parser_ko = nltk.RegexpParser(grammar)\n",
        "chunks_ko = parser_ko.parse(okt_PoS[0])\n",
        "\n",
        "display(chunks_ko)"
      ],
      "metadata": {
        "id": "Oss1lUHkVqsz",
        "outputId": "27d93dfe-75f7-43f6-961c-cd2e9750aa42",
        "colab": {
          "base_uri": "https://localhost:8080/",
          "height": 535
        }
      },
      "execution_count": null,
      "outputs": [
        {
          "output_type": "error",
          "ename": "ModuleNotFoundError",
          "evalue": "ignored",
          "traceback": [
            "\u001b[0;31m---------------------------------------------------------------------------\u001b[0m",
            "\u001b[0;31mModuleNotFoundError\u001b[0m                       Traceback (most recent call last)",
            "\u001b[0;32m/usr/local/lib/python3.9/dist-packages/IPython/core/formatters.py\u001b[0m in \u001b[0;36m__call__\u001b[0;34m(self, obj)\u001b[0m\n\u001b[1;32m    343\u001b[0m             \u001b[0mmethod\u001b[0m \u001b[0;34m=\u001b[0m \u001b[0mget_real_method\u001b[0m\u001b[0;34m(\u001b[0m\u001b[0mobj\u001b[0m\u001b[0;34m,\u001b[0m \u001b[0mself\u001b[0m\u001b[0;34m.\u001b[0m\u001b[0mprint_method\u001b[0m\u001b[0;34m)\u001b[0m\u001b[0;34m\u001b[0m\u001b[0;34m\u001b[0m\u001b[0m\n\u001b[1;32m    344\u001b[0m             \u001b[0;32mif\u001b[0m \u001b[0mmethod\u001b[0m \u001b[0;32mis\u001b[0m \u001b[0;32mnot\u001b[0m \u001b[0;32mNone\u001b[0m\u001b[0;34m:\u001b[0m\u001b[0;34m\u001b[0m\u001b[0;34m\u001b[0m\u001b[0m\n\u001b[0;32m--> 345\u001b[0;31m                 \u001b[0;32mreturn\u001b[0m \u001b[0mmethod\u001b[0m\u001b[0;34m(\u001b[0m\u001b[0;34m)\u001b[0m\u001b[0;34m\u001b[0m\u001b[0;34m\u001b[0m\u001b[0m\n\u001b[0m\u001b[1;32m    346\u001b[0m             \u001b[0;32mreturn\u001b[0m \u001b[0;32mNone\u001b[0m\u001b[0;34m\u001b[0m\u001b[0;34m\u001b[0m\u001b[0m\n\u001b[1;32m    347\u001b[0m         \u001b[0;32melse\u001b[0m\u001b[0;34m:\u001b[0m\u001b[0;34m\u001b[0m\u001b[0;34m\u001b[0m\u001b[0m\n",
            "\u001b[0;32m/usr/local/lib/python3.9/dist-packages/nltk/tree/tree.py\u001b[0m in \u001b[0;36m_repr_svg_\u001b[0;34m(self)\u001b[0m\n\u001b[1;32m    780\u001b[0m \u001b[0;34m\u001b[0m\u001b[0m\n\u001b[1;32m    781\u001b[0m     \u001b[0;32mdef\u001b[0m \u001b[0m_repr_svg_\u001b[0m\u001b[0;34m(\u001b[0m\u001b[0mself\u001b[0m\u001b[0;34m)\u001b[0m\u001b[0;34m:\u001b[0m\u001b[0;34m\u001b[0m\u001b[0;34m\u001b[0m\u001b[0m\n\u001b[0;32m--> 782\u001b[0;31m         \u001b[0;32mfrom\u001b[0m \u001b[0msvgling\u001b[0m \u001b[0;32mimport\u001b[0m \u001b[0mdraw_tree\u001b[0m\u001b[0;34m\u001b[0m\u001b[0;34m\u001b[0m\u001b[0m\n\u001b[0m\u001b[1;32m    783\u001b[0m \u001b[0;34m\u001b[0m\u001b[0m\n\u001b[1;32m    784\u001b[0m         \u001b[0;32mreturn\u001b[0m \u001b[0mdraw_tree\u001b[0m\u001b[0;34m(\u001b[0m\u001b[0mself\u001b[0m\u001b[0;34m)\u001b[0m\u001b[0;34m.\u001b[0m\u001b[0m_repr_svg_\u001b[0m\u001b[0;34m(\u001b[0m\u001b[0;34m)\u001b[0m\u001b[0;34m\u001b[0m\u001b[0;34m\u001b[0m\u001b[0m\n",
            "\u001b[0;31mModuleNotFoundError\u001b[0m: No module named 'svgling'"
          ]
        },
        {
          "output_type": "display_data",
          "data": {
            "text/plain": [
              "Tree('S', [Tree('AP', [('self', 'Alpha')]), ('.', 'Punctuation'), Tree('AP', [('convs', 'Alpha')]), Tree('NP', [('1', 'Number')]), ('=', 'Punctuation'), Tree('AP', [('nn', 'Alpha')]), ('.', 'Punctuation'), Tree('AP', [('ModuleList', 'Alpha')]), ('([', 'Punctuation'), Tree('AP', [('nn', 'Alpha')]), ('.', 'Punctuation'), Tree('AP', [('Conv', 'Alpha')]), Tree('NP', [('2', 'Number')]), Tree('AP', [('d', 'Alpha')]), ('(', 'Punctuation'), Tree('NP', [('1', 'Number')]), (',', 'Punctuation'), Tree('AP', [('Co', 'Alpha')]), (',', 'Punctuation'), ('(', 'Punctuation'), Tree('AP', [('K', 'Alpha')]), (',', 'Punctuation'), Tree('NP', [('100', 'Number')]), ('))', 'Punctuation'), Tree('AP', [('for', 'Alpha'), ('K', 'Alpha'), ('in', 'Alpha'), ('Ks', 'Alpha')]), ('])', 'Punctuation'), ('\\n', 'Foreign'), Tree('NP', [('1', 'Number')]), ('.', 'Punctuation'), Tree('NP', [('여기', 'Noun')]), ('서', 'Josa'), Tree('NP', [('커널', 'Noun'), ('사이즈', 'Noun')]), Tree('AP', [('K', 'Alpha')]), (',', 'Punctuation'), Tree('NP', [('100', 'Number'), ('은', 'Noun')]), Tree('VP', [('한', 'Verb')]), Tree('NP', [('단어', 'Noun')]), ('의', 'Josa'), Tree('NP', [('최대', 'Noun'), ('길이', 'Noun')]), ('가', 'Josa'), Tree('NP', [('100', 'Number'), ('이', 'Noun')]), Tree('VP', [('넘지', 'Verb'), ('않는다는', 'Verb')]), Tree('NP', [('가정', 'Noun')]), ('으로', 'Josa'), Tree('NP', [('그냥', 'Noun'), ('100', 'Number')]), ('으로', 'Josa'), Tree('NP', [('선언', 'Noun')]), ('한', 'Josa'), Tree('NP', [('것', 'Noun')]), ('인지', 'Josa'), Tree('AP', [('궁금합니다', 'Adjective')]), ('.', 'Punctuation')])"
            ]
          },
          "metadata": {}
        }
      ]
    },
    {
      "cell_type": "markdown",
      "metadata": {
        "id": "1niKqD7FMI6M"
      },
      "source": [
        "### 3-4. Wordcloud 만들기\n",
        "* 명사 추출/형태소 분석 결과를 이용하여 WordCloud 객체를 생성\n",
        "* 최대 글꼴 크기(max_font_size), 최대 단어 수(max_words), 배경 색상(background_color)\n",
        "* 상대 크기비율(relative_scaling), 그림 크기(width, height), 폰트 경로(font_path=FONT_PATH) 등 설정\n",
        "* .generate 메서드를 연결하여 WordCloud에 사용될 텍스트 데이터 생성\n",
        "* plt.imshow(  ) 를 통해 화면에 보여집니다."
      ]
    },
    {
      "cell_type": "code",
      "execution_count": null,
      "metadata": {
        "id": "l4YF7CYbMI6N",
        "outputId": "02394c3f-7a95-415b-a5e7-913d152ec389",
        "colab": {
          "base_uri": "https://localhost:8080/",
          "height": 571
        }
      },
      "outputs": [
        {
          "output_type": "display_data",
          "data": {
            "text/plain": [
              "<Figure size 640x480 with 1 Axes>"
            ],
            "image/png": "[encoded data removed]"
          },
          "metadata": {}
        },
        {
          "output_type": "stream",
          "name": "stdout",
          "text": [
            "\n"
          ]
        },
        {
          "output_type": "display_data",
          "data": {
            "text/plain": [
              "<Figure size 640x480 with 1 Axes>"
            ],
            "image/png": "[encoded data removed]"
          },
          "metadata": {}
        }
      ],
      "source": [
        "# 명사 추출/형태소 분석 결과를 이용하여 WordCloud 객체를 생성\n",
        "wc = WordCloud(font_path = FONT_PATH, # 한글 글씨체 설정\n",
        "               background_color='white', # 배경색은 흰색으로 \n",
        "               colormap='Reds', # 글씨색은 빨간색으로\n",
        "               )\n",
        "# 최대 글꼴 크기(max_font_size), 최대 단어 수(max_words), 배경 색상(background_color)\n",
        "# 상대 크기비율(relative_scaling), 그림 크기(width, height), 폰트 경로(font_path=FONT_PATH) 등 설정\n",
        "# .generate 메서드를 연결하여 WordCloud에 사용될 텍스트 데이터 생성\n",
        "\n",
        "okt_counts = Counter(nt_okt_nouns)\n",
        "okt_tags = okt_counts.most_common(30)\n",
        "okt_cloud = wc.generate_from_frequencies(dict(okt_tags))\n",
        "# plt.imshow( ) 를 통해 화면에 보여집니다.\n",
        "plt.imshow(okt_cloud)\n",
        "plt.axis('off')\n",
        "plt.show()\n",
        "print()\n",
        "mecab_counts = Counter(nt_mecab_nounsnoun)\n",
        "mecab_tags = mecab_counts.most_common(30)\n",
        "mecab_cloud = wc.generate_from_frequencies(dict(mecab_tags))\n",
        "# plt.imshow( ) 를 통해 화면에 보여집니다.\n",
        "plt.imshow(mecab_cloud)\n",
        "plt.axis('off')\n",
        "plt.show()"
      ]
    },
    {
      "cell_type": "code",
      "source": [
        "okt_counts = Counter(nt_okt_pos)\n",
        "okt_tags = okt_counts.most_common(30)\n",
        "okt_cloud = wc.generate_from_frequencies(dict(okt_tags))\n",
        "# plt.imshow( ) 를 통해 화면에 보여집니다.\n",
        "plt.imshow(okt_cloud)\n",
        "plt.axis('off')\n",
        "plt.show()"
      ],
      "metadata": {
        "id": "eI5dDbn4QUrm",
        "outputId": "75e260d8-78d0-4b50-dfe0-96ac29ccbf54",
        "colab": {
          "base_uri": "https://localhost:8080/",
          "height": 396
        }
      },
      "execution_count": null,
      "outputs": [
        {
          "output_type": "error",
          "ename": "TypeError",
          "evalue": "ignored",
          "traceback": [
            "\u001b[0;31m---------------------------------------------------------------------------\u001b[0m",
            "\u001b[0;31mTypeError\u001b[0m                                 Traceback (most recent call last)",
            "\u001b[0;32m<ipython-input-35-6cd8d9359e2d>\u001b[0m in \u001b[0;36m<cell line: 1>\u001b[0;34m()\u001b[0m\n\u001b[0;32m----> 1\u001b[0;31m \u001b[0mokt_counts\u001b[0m \u001b[0;34m=\u001b[0m \u001b[0mCounter\u001b[0m\u001b[0;34m(\u001b[0m\u001b[0mnt_okt_pos\u001b[0m\u001b[0;34m)\u001b[0m\u001b[0;34m\u001b[0m\u001b[0;34m\u001b[0m\u001b[0m\n\u001b[0m\u001b[1;32m      2\u001b[0m \u001b[0mokt_tags\u001b[0m \u001b[0;34m=\u001b[0m \u001b[0mokt_counts\u001b[0m\u001b[0;34m.\u001b[0m\u001b[0mmost_common\u001b[0m\u001b[0;34m(\u001b[0m\u001b[0;36m30\u001b[0m\u001b[0;34m)\u001b[0m\u001b[0;34m\u001b[0m\u001b[0;34m\u001b[0m\u001b[0m\n\u001b[1;32m      3\u001b[0m \u001b[0mokt_cloud\u001b[0m \u001b[0;34m=\u001b[0m \u001b[0mwc\u001b[0m\u001b[0;34m.\u001b[0m\u001b[0mgenerate_from_frequencies\u001b[0m\u001b[0;34m(\u001b[0m\u001b[0mdict\u001b[0m\u001b[0;34m(\u001b[0m\u001b[0mokt_tags\u001b[0m\u001b[0;34m)\u001b[0m\u001b[0;34m)\u001b[0m\u001b[0;34m\u001b[0m\u001b[0;34m\u001b[0m\u001b[0m\n\u001b[1;32m      4\u001b[0m \u001b[0;31m# plt.imshow( ) 를 통해 화면에 보여집니다.\u001b[0m\u001b[0;34m\u001b[0m\u001b[0;34m\u001b[0m\u001b[0m\n\u001b[1;32m      5\u001b[0m \u001b[0mplt\u001b[0m\u001b[0;34m.\u001b[0m\u001b[0mimshow\u001b[0m\u001b[0;34m(\u001b[0m\u001b[0mokt_cloud\u001b[0m\u001b[0;34m)\u001b[0m\u001b[0;34m\u001b[0m\u001b[0;34m\u001b[0m\u001b[0m\n",
            "\u001b[0;32m/usr/lib/python3.9/collections/__init__.py\u001b[0m in \u001b[0;36m__init__\u001b[0;34m(self, iterable, **kwds)\u001b[0m\n\u001b[1;32m    591\u001b[0m         '''\n\u001b[1;32m    592\u001b[0m         \u001b[0msuper\u001b[0m\u001b[0;34m(\u001b[0m\u001b[0;34m)\u001b[0m\u001b[0;34m.\u001b[0m\u001b[0m__init__\u001b[0m\u001b[0;34m(\u001b[0m\u001b[0;34m)\u001b[0m\u001b[0;34m\u001b[0m\u001b[0;34m\u001b[0m\u001b[0m\n\u001b[0;32m--> 593\u001b[0;31m         \u001b[0mself\u001b[0m\u001b[0;34m.\u001b[0m\u001b[0mupdate\u001b[0m\u001b[0;34m(\u001b[0m\u001b[0miterable\u001b[0m\u001b[0;34m,\u001b[0m \u001b[0;34m**\u001b[0m\u001b[0mkwds\u001b[0m\u001b[0;34m)\u001b[0m\u001b[0;34m\u001b[0m\u001b[0;34m\u001b[0m\u001b[0m\n\u001b[0m\u001b[1;32m    594\u001b[0m \u001b[0;34m\u001b[0m\u001b[0m\n\u001b[1;32m    595\u001b[0m     \u001b[0;32mdef\u001b[0m \u001b[0m__missing__\u001b[0m\u001b[0;34m(\u001b[0m\u001b[0mself\u001b[0m\u001b[0;34m,\u001b[0m \u001b[0mkey\u001b[0m\u001b[0;34m)\u001b[0m\u001b[0;34m:\u001b[0m\u001b[0;34m\u001b[0m\u001b[0;34m\u001b[0m\u001b[0m\n",
            "\u001b[0;32m/usr/lib/python3.9/collections/__init__.py\u001b[0m in \u001b[0;36mupdate\u001b[0;34m(self, iterable, **kwds)\u001b[0m\n\u001b[1;32m    677\u001b[0m                     \u001b[0msuper\u001b[0m\u001b[0;34m(\u001b[0m\u001b[0;34m)\u001b[0m\u001b[0;34m.\u001b[0m\u001b[0mupdate\u001b[0m\u001b[0;34m(\u001b[0m\u001b[0miterable\u001b[0m\u001b[0;34m)\u001b[0m\u001b[0;34m\u001b[0m\u001b[0;34m\u001b[0m\u001b[0m\n\u001b[1;32m    678\u001b[0m             \u001b[0;32melse\u001b[0m\u001b[0;34m:\u001b[0m\u001b[0;34m\u001b[0m\u001b[0;34m\u001b[0m\u001b[0m\n\u001b[0;32m--> 679\u001b[0;31m                 \u001b[0m_count_elements\u001b[0m\u001b[0;34m(\u001b[0m\u001b[0mself\u001b[0m\u001b[0;34m,\u001b[0m \u001b[0miterable\u001b[0m\u001b[0;34m)\u001b[0m\u001b[0;34m\u001b[0m\u001b[0;34m\u001b[0m\u001b[0m\n\u001b[0m\u001b[1;32m    680\u001b[0m         \u001b[0;32mif\u001b[0m \u001b[0mkwds\u001b[0m\u001b[0;34m:\u001b[0m\u001b[0;34m\u001b[0m\u001b[0;34m\u001b[0m\u001b[0m\n\u001b[1;32m    681\u001b[0m             \u001b[0mself\u001b[0m\u001b[0;34m.\u001b[0m\u001b[0mupdate\u001b[0m\u001b[0;34m(\u001b[0m\u001b[0mkwds\u001b[0m\u001b[0;34m)\u001b[0m\u001b[0;34m\u001b[0m\u001b[0;34m\u001b[0m\u001b[0m\n",
            "\u001b[0;31mTypeError\u001b[0m: unhashable type: 'list'"
          ]
        }
      ]
    },
    {
      "cell_type": "markdown",
      "metadata": {
        "id": "SlattJTBMI6N"
      },
      "source": [
        "## 4. 문의 유형에 따른 분석"
      ]
    },
    {
      "cell_type": "markdown",
      "source": [
        "### 4-1. *3. 데이터 탐색*에서 실행한 알고리즘을 문의 유형에 따라 실행할 수 있는 함수를 개발합니다.\n",
        "* 아래 text_analysis 함수를 개발합니다."
      ],
      "metadata": {
        "id": "I8SvW4w9dSFc"
      }
    },
    {
      "cell_type": "code",
      "execution_count": null,
      "metadata": {
        "id": "zL_pG-4qMI6N"
      },
      "outputs": [],
      "source": [
        "def text_analysis(df, label=None):\n",
        "    \"\"\"\n",
        "    label에 따라서 분석, label이 None인 경우 전체 분석\n",
        "    데이터 확인, 데이터 길이 시각화\n",
        "    명사 추출하여 분석, 워드 클라우드 시각화\n",
        "\n",
        "    Parameters\n",
        "    ----------\n",
        "    df : pandas DataFrame object.\n",
        "    label : Label for analysis, default=None.\n",
        "    - If label is None, Entire data are analyzed.\n",
        "\n",
        "    Returns\n",
        "    -------\n",
        "    result : None\n",
        "\n",
        "    \"\"\"\n",
        "\n",
        "    # 라벨에 따른 분석\n",
        "\n",
        "    # 라벨이 없는 경우 전체 분석\n",
        "\n",
        "    # 데이터 확인, 데이터 길이 시각화\n",
        "\n",
        "    # 명사 추출하여 분석\n",
        "\n",
        "    # 워드 클라우드 시각화\n",
        "    \n",
        "    pass"
      ]
    },
    {
      "cell_type": "markdown",
      "metadata": {
        "id": "Yp9Ke48EMI6N"
      },
      "source": [
        "### 4-2. 각각의 문의 유형에 대해 실행합니다."
      ]
    },
    {
      "cell_type": "code",
      "execution_count": null,
      "metadata": {
        "id": "yfDaN104MI6N"
      },
      "outputs": [],
      "source": [
        "for label in sorted(train_df.label.unique()):\n",
        "    text_analysis(train_df,label)"
      ]
    },
    {
      "cell_type": "markdown",
      "metadata": {
        "id": "7KRDiqV1MI6N"
      },
      "source": [
        "# 단계2 : 데이터 전처리\n",
        "> * Tokenization(Konlpy...)\n",
        "> * Vectorization(N-grams, Sequence)\n",
        "> * [Google guide](https://developers.google.com/machine-learning/guides/text-classification/step-3)"
      ]
    },
    {
      "cell_type": "markdown",
      "metadata": {
        "id": "vqT47FaOMI6N"
      },
      "source": [
        "## 5. 데이터 준비\n",
        "### 5-1. label 아래 형식으로 처리\n",
        "```python\n",
        "label_dict = {\n",
        "    '코드1': 0,\n",
        "    '코드2': 0,\n",
        "    '웹': 1,\n",
        "    '이론': 2,\n",
        "    '시스템 운영': 3,\n",
        "    '원격': 4\n",
        "}\n",
        "```"
      ]
    },
    {
      "cell_type": "code",
      "source": [
        "data['label'].value_counts()"
      ],
      "metadata": {
        "id": "ZoLg5qBY_MrC",
        "outputId": "74382560-2c80-43b5-87dc-43414f2395d6",
        "colab": {
          "base_uri": "https://localhost:8080/"
        }
      },
      "execution_count": 13,
      "outputs": [
        {
          "output_type": "execute_result",
          "data": {
            "text/plain": [
              "코드2       1097\n",
              "웹          732\n",
              "이론         728\n",
              "시스템 운영     561\n",
              "코드1        488\n",
              "원격         100\n",
              "Name: label, dtype: int64"
            ]
          },
          "metadata": {},
          "execution_count": 13
        }
      ]
    },
    {
      "cell_type": "markdown",
      "source": [
        "* 전략\\\n",
        "1) 형태소 분석 클래스 선택\\\n",
        "2) 명사, 전부 등\\\n",
        "2) 각각의 나눠진 규칙에 따른 데이터 셋을 생성\\\n",
        "3) 저장"
      ],
      "metadata": {
        "id": "CuFhXGq2_uc4"
      }
    },
    {
      "cell_type": "code",
      "source": [
        "data['text'] = data.text.apply(lambda t:t.replace('\\n', ' ').replace('\\r', ' ').replace('\\t', ' '))\n",
        "data"
      ],
      "metadata": {
        "id": "mvp6v71pJH9S",
        "outputId": "371ecc44-4bdb-4a0f-9445-546902fce745",
        "colab": {
          "base_uri": "https://localhost:8080/",
          "height": 423
        }
      },
      "execution_count": 14,
      "outputs": [
        {
          "output_type": "execute_result",
          "data": {
            "text/plain": [
              "                                                   text   label\n",
              "0     self.convs1 = nn.ModuleList([nn.Conv2d(1, Co, ...     코드2\n",
              "1     현재 이미지를 여러개 업로드 하기 위해 자바스크립트로 동적으로 폼 여러개 생성하는데...       웹\n",
              "2     glob.glob(PATH) 를 사용할 때 질문입니다.  PATH에 [ ] 가 포함...     코드2\n",
              "3     tmpp = tmp.groupby(by = 'Addr1', as_index=Fals...     코드2\n",
              "4     filename = TEST_IMAGE + str(round(frame_sec)) ...     코드2\n",
              "...                                                 ...     ...\n",
              "3701  토큰화 이후 train val 를 분리하고 각 train set, val set에 ...     코드2\n",
              "3702  올린 값들 중 최고점인 건가요? 아니면 최근에 올린 파일로 무조건 갱신인가요? 최고...  시스템 운영\n",
              "3703  수업에서 cacoo랑 packet tracer를 배우는 이유가  1. IT 인프라 ...      이론\n",
              "3704  inplace =True 해도 값이 변경이 안되고 none으로 뜹니다. 혹시 원격지...      원격\n",
              "3705  상관관계는 그렇게 크지 않게 나오는데 p -value 값은 관련이 있게 나오는데  ...      이론\n",
              "\n",
              "[3706 rows x 2 columns]"
            ],
            "text/html": [
              "\n",
              "  <div id=\"df-029d9009-4edf-47e9-b785-98f73c925b86\">\n",
              "    <div class=\"colab-df-container\">\n",
              "      <div>\n",
              "<style scoped>\n",
              "    .dataframe tbody tr th:only-of-type {\n",
              "        vertical-align: middle;\n",
              "    }\n",
              "\n",
              "    .dataframe tbody tr th {\n",
              "        vertical-align: top;\n",
              "    }\n",
              "\n",
              "    .dataframe thead th {\n",
              "        text-align: right;\n",
              "    }\n",
              "</style>\n",
              "<table border=\"1\" class=\"dataframe\">\n",
              "  <thead>\n",
              "    <tr style=\"text-align: right;\">\n",
              "      <th></th>\n",
              "      <th>text</th>\n",
              "      <th>label</th>\n",
              "    </tr>\n",
              "  </thead>\n",
              "  <tbody>\n",
              "    <tr>\n",
              "      <th>0</th>\n",
              "      <td>self.convs1 = nn.ModuleList([nn.Conv2d(1, Co, ...</td>\n",
              "      <td>코드2</td>\n",
              "    </tr>\n",
              "    <tr>\n",
              "      <th>1</th>\n",
              "      <td>현재 이미지를 여러개 업로드 하기 위해 자바스크립트로 동적으로 폼 여러개 생성하는데...</td>\n",
              "      <td>웹</td>\n",
              "    </tr>\n",
              "    <tr>\n",
              "      <th>2</th>\n",
              "      <td>glob.glob(PATH) 를 사용할 때 질문입니다.  PATH에 [ ] 가 포함...</td>\n",
              "      <td>코드2</td>\n",
              "    </tr>\n",
              "    <tr>\n",
              "      <th>3</th>\n",
              "      <td>tmpp = tmp.groupby(by = 'Addr1', as_index=Fals...</td>\n",
              "      <td>코드2</td>\n",
              "    </tr>\n",
              "    <tr>\n",
              "      <th>4</th>\n",
              "      <td>filename = TEST_IMAGE + str(round(frame_sec)) ...</td>\n",
              "      <td>코드2</td>\n",
              "    </tr>\n",
              "    <tr>\n",
              "      <th>...</th>\n",
              "      <td>...</td>\n",
              "      <td>...</td>\n",
              "    </tr>\n",
              "    <tr>\n",
              "      <th>3701</th>\n",
              "      <td>토큰화 이후 train val 를 분리하고 각 train set, val set에 ...</td>\n",
              "      <td>코드2</td>\n",
              "    </tr>\n",
              "    <tr>\n",
              "      <th>3702</th>\n",
              "      <td>올린 값들 중 최고점인 건가요? 아니면 최근에 올린 파일로 무조건 갱신인가요? 최고...</td>\n",
              "      <td>시스템 운영</td>\n",
              "    </tr>\n",
              "    <tr>\n",
              "      <th>3703</th>\n",
              "      <td>수업에서 cacoo랑 packet tracer를 배우는 이유가  1. IT 인프라 ...</td>\n",
              "      <td>이론</td>\n",
              "    </tr>\n",
              "    <tr>\n",
              "      <th>3704</th>\n",
              "      <td>inplace =True 해도 값이 변경이 안되고 none으로 뜹니다. 혹시 원격지...</td>\n",
              "      <td>원격</td>\n",
              "    </tr>\n",
              "    <tr>\n",
              "      <th>3705</th>\n",
              "      <td>상관관계는 그렇게 크지 않게 나오는데 p -value 값은 관련이 있게 나오는데  ...</td>\n",
              "      <td>이론</td>\n",
              "    </tr>\n",
              "  </tbody>\n",
              "</table>\n",
              "<p>3706 rows × 2 columns</p>\n",
              "</div>\n",
              "      <button class=\"colab-df-convert\" onclick=\"convertToInteractive('df-029d9009-4edf-47e9-b785-98f73c925b86')\"\n",
              "              title=\"Convert this dataframe to an interactive table.\"\n",
              "              style=\"display:none;\">\n",
              "        \n",
              "  <svg xmlns=\"http://www.w3.org/2000/svg\" height=\"24px\"viewBox=\"0 0 24 24\"\n",
              "       width=\"24px\">\n",
              "    <path d=\"M0 0h24v24H0V0z\" fill=\"none\"/>\n",
              "    <path d=\"M18.56 5.44l.94 2.06.94-2.06 2.06-.94-2.06-.94-.94-2.06-.94 2.06-2.06.94zm-11 1L8.5 8.5l.94-2.06 2.06-.94-2.06-.94L8.5 2.5l-.94 2.06-2.06.94zm10 10l.94 2.06.94-2.06 2.06-.94-2.06-.94-.94-2.06-.94 2.06-2.06.94z\"/><path d=\"M17.41 7.96l-1.37-1.37c-.4-.4-.92-.59-1.43-.59-.52 0-1.04.2-1.43.59L10.3 9.45l-7.72 7.72c-.78.78-.78 2.05 0 2.83L4 21.41c.39.39.9.59 1.41.59.51 0 1.02-.2 1.41-.59l7.78-7.78 2.81-2.81c.8-.78.8-2.07 0-2.86zM5.41 20L4 18.59l7.72-7.72 1.47 1.35L5.41 20z\"/>\n",
              "  </svg>\n",
              "      </button>\n",
              "      \n",
              "  <style>\n",
              "    .colab-df-container {\n",
              "      display:flex;\n",
              "      flex-wrap:wrap;\n",
              "      gap: 12px;\n",
              "    }\n",
              "\n",
              "    .colab-df-convert {\n",
              "      background-color: #E8F0FE;\n",
              "      border: none;\n",
              "      border-radius: 50%;\n",
              "      cursor: pointer;\n",
              "      display: none;\n",
              "      fill: #1967D2;\n",
              "      height: 32px;\n",
              "      padding: 0 0 0 0;\n",
              "      width: 32px;\n",
              "    }\n",
              "\n",
              "    .colab-df-convert:hover {\n",
              "      background-color: #E2EBFA;\n",
              "      box-shadow: 0px 1px 2px rgba(60, 64, 67, 0.3), 0px 1px 3px 1px rgba(60, 64, 67, 0.15);\n",
              "      fill: #174EA6;\n",
              "    }\n",
              "\n",
              "    [theme=dark] .colab-df-convert {\n",
              "      background-color: #3B4455;\n",
              "      fill: #D2E3FC;\n",
              "    }\n",
              "\n",
              "    [theme=dark] .colab-df-convert:hover {\n",
              "      background-color: #434B5C;\n",
              "      box-shadow: 0px 1px 3px 1px rgba(0, 0, 0, 0.15);\n",
              "      filter: drop-shadow(0px 1px 2px rgba(0, 0, 0, 0.3));\n",
              "      fill: #FFFFFF;\n",
              "    }\n",
              "  </style>\n",
              "\n",
              "      <script>\n",
              "        const buttonEl =\n",
              "          document.querySelector('#df-029d9009-4edf-47e9-b785-98f73c925b86 button.colab-df-convert');\n",
              "        buttonEl.style.display =\n",
              "          google.colab.kernel.accessAllowed ? 'block' : 'none';\n",
              "\n",
              "        async function convertToInteractive(key) {\n",
              "          const element = document.querySelector('#df-029d9009-4edf-47e9-b785-98f73c925b86');\n",
              "          const dataTable =\n",
              "            await google.colab.kernel.invokeFunction('convertToInteractive',\n",
              "                                                     [key], {});\n",
              "          if (!dataTable) return;\n",
              "\n",
              "          const docLinkHtml = 'Like what you see? Visit the ' +\n",
              "            '<a target=\"_blank\" href=https://colab.research.google.com/notebooks/data_table.ipynb>data table notebook</a>'\n",
              "            + ' to learn more about interactive tables.';\n",
              "          element.innerHTML = '';\n",
              "          dataTable['output_type'] = 'display_data';\n",
              "          await google.colab.output.renderOutput(dataTable, element);\n",
              "          const docLink = document.createElement('div');\n",
              "          docLink.innerHTML = docLinkHtml;\n",
              "          element.appendChild(docLink);\n",
              "        }\n",
              "      </script>\n",
              "    </div>\n",
              "  </div>\n",
              "  "
            ]
          },
          "metadata": {},
          "execution_count": 14
        }
      ]
    },
    {
      "cell_type": "code",
      "source": [
        "mecab = MeCab()"
      ],
      "metadata": {
        "id": "Y3T38Jf4K7zc"
      },
      "execution_count": 15,
      "outputs": []
    },
    {
      "cell_type": "code",
      "source": [
        "mecab_morphs = data.text.apply(lambda t: mecab.morphs(t))\n",
        "mecab_morphs"
      ],
      "metadata": {
        "id": "n9DeHbTsMELL",
        "outputId": "d7b3eeaa-9f1c-4f56-8169-b8d23b46f1ce",
        "colab": {
          "base_uri": "https://localhost:8080/"
        }
      },
      "execution_count": 16,
      "outputs": [
        {
          "output_type": "execute_result",
          "data": {
            "text/plain": [
              "0       [self, ., convs, 1, =, nn, ., ModuleList, (, [...\n",
              "1       [현재, 이미지, 를, 여러, 개, 업로드, 하, 기, 위해, 자바, 스크립트, 로...\n",
              "2       [glob, ., glob, (, PATH, ), 를, 사용, 할, 때, 질문, 입...\n",
              "3       [tmpp, =, tmp, ., groupby, (, by, =, ', Addr, ...\n",
              "4       [filename, =, TEST, _, IMAGE, +, str, (, round...\n",
              "                              ...                        \n",
              "3701    [토큰, 화, 이후, train, val, 를, 분리, 하, 고, 각, train,...\n",
              "3702    [올린, 값, 들, 중, 최고점, 인, 건가요, ?, 아니면, 최근, 에, 올린, ...\n",
              "3703    [수업, 에서, cacoo, 랑, packet, tracer, 를, 배우, 는, 이...\n",
              "3704    [inplace, =, True, 해도, 값, 이, 변경, 이, 안, 되, 고, n...\n",
              "3705    [상관, 관계, 는, 그렇게, 크, 지, 않, 게, 나오, 는데, p, -, val...\n",
              "Name: text, Length: 3706, dtype: object"
            ]
          },
          "metadata": {},
          "execution_count": 16
        }
      ]
    },
    {
      "cell_type": "code",
      "source": [
        "mecab_nouns = data.text.apply(lambda t:mecab.nouns(t))\n",
        "mecab_nouns"
      ],
      "metadata": {
        "id": "vdUDBWfgNXGj",
        "outputId": "2911b839-57a2-490b-95df-a9be39436a61",
        "colab": {
          "base_uri": "https://localhost:8080/"
        }
      },
      "execution_count": 17,
      "outputs": [
        {
          "output_type": "execute_result",
          "data": {
            "text/plain": [
              "0                 [여기, 커널, 사이즈, 은, 단어, 최대, 길이, 가정, 선언, 것]\n",
              "1       [이미지, 개, 업로드, 자바, 스크립트, 동적, 폼, 개, 생성, 데, 클릭, 뭘...\n",
              "2       [사용, 때, 질문, 포함, 작동, 것, 질문, 제공, 파일, 폴더, 포함, 폴더,...\n",
              "3                                                [오류, 해결]\n",
              "4        [안, 폴더, 안, 이미지, 저장, 걸로, 이해, 실행, 폴더, 이미지, 저장, 질문]\n",
              "                              ...                        \n",
              "3701    [토큰, 이후, 분리, 벡터, 진행, 데이터, 전, 번, 벡터, 진행, 상관, 머신...\n",
              "3702      [값, 중, 최고점, 건가요, 최근, 파일, 갱신, 최고점, 값, 경우, 변경, 것]\n",
              "3703    [수업, 이유, 인프라, 구조, 이해, 시간, 인프라, 구축, 설계, 구성, 비유,...\n",
              "3704                                  [값, 변경, 원격, 지원, 가능]\n",
              "3705                              [상관, 관계, 값, 관련, 경우, 해석]\n",
              "Name: text, Length: 3706, dtype: object"
            ]
          },
          "metadata": {},
          "execution_count": 17
        }
      ]
    },
    {
      "cell_type": "code",
      "source": [
        "mecab_pos = data.text.apply(lambda t:mecab.pos(t))\n",
        "mecab_pos"
      ],
      "metadata": {
        "id": "bQ-przbhNgVU",
        "outputId": "2778f9b3-7148-4eae-fc2c-5a94a4642fe6",
        "colab": {
          "base_uri": "https://localhost:8080/"
        }
      },
      "execution_count": 18,
      "outputs": [
        {
          "output_type": "execute_result",
          "data": {
            "text/plain": [
              "0       [(self, SL), (., SY), (convs, SL), (1, SN), (=...\n",
              "1       [(현재, MAG), (이미지, NNG), (를, JKO), (여러, MM), (개...\n",
              "2       [(glob, SL), (., SY), (glob, SL), ((, SSO), (P...\n",
              "3       [(tmpp, SL), (=, SY), (tmp, SL), (., SY), (gro...\n",
              "4       [(filename, SL), (=, SY), (TEST, SL), (_, SY),...\n",
              "                              ...                        \n",
              "3701    [(토큰, NNG), (화, XSN), (이후, NNG), (train, SL), ...\n",
              "3702    [(올린, VV+ETM), (값, NNG), (들, XSN), (중, NNB), (...\n",
              "3703    [(수업, NNG), (에서, JKB), (cacoo, SL), (랑, JC), (...\n",
              "3704    [(inplace, SL), (=, SY), (True, SL), (해도, VV+E...\n",
              "3705    [(상관, NNG), (관계, NNG), (는, JX), (그렇게, MAG), (크...\n",
              "Name: text, Length: 3706, dtype: object"
            ]
          },
          "metadata": {},
          "execution_count": 18
        }
      ]
    },
    {
      "cell_type": "code",
      "source": [
        "from konlpy.tag import Kkma\n",
        "kkma = Kkma()\n",
        "kkma_pos = data.text.apply(lambda t: kkma.pos(t))"
      ],
      "metadata": {
        "id": "X2371ImmJjxw"
      },
      "execution_count": 24,
      "outputs": []
    },
    {
      "cell_type": "markdown",
      "source": [
        "#### 모든 데이터에서 품사이름 합치"
      ],
      "metadata": {
        "id": "LIoB0zl6O8ap"
      }
    },
    {
      "cell_type": "code",
      "source": [
        "x_train = pd.DataFrame(columns=['text'])\n",
        "\n",
        "for n in range(len(mecab_pos)):\n",
        "    tmp = []\n",
        "    for m in range(len(mecab_pos[n])):\n",
        "        tmp.append(str(mecab_pos[n][m][0]) + '//' + str(mecab_pos[n][m][1]))\n",
        "        \n",
        "    x_train.loc[n] = ' '.join(tmp)"
      ],
      "metadata": {
        "id": "VuL9b0hZQeCG"
      },
      "execution_count": 36,
      "outputs": []
    },
    {
      "cell_type": "code",
      "source": [
        "# 정제된 x_train에 y 값 추가\n",
        "x_train['label'] = data['label']\n",
        "\n",
        "label_dict = {\n",
        "    '코드1': 0,\n",
        "    '코드2': 0,\n",
        "    '웹': 1,\n",
        "    '이론': 2,\n",
        "    '시스템 운영': 3,\n",
        "    '원격': 4\n",
        "}\n",
        "\n",
        "# label 값을 범주형(int) 값으로 변경\n",
        "x_train['label'] = x_train.label.apply(lambda t:t.replace(t, str(label_dict[t])))\n",
        "x_train['label'] = x_train['label'].astype('int64')\n",
        "x_train.info()"
      ],
      "metadata": {
        "id": "DQ7_OLb-VCZT",
        "outputId": "d18d739d-ef7a-4d35-9626-c8ea6aa92989",
        "colab": {
          "base_uri": "https://localhost:8080/"
        }
      },
      "execution_count": 37,
      "outputs": [
        {
          "output_type": "stream",
          "name": "stdout",
          "text": [
            "<class 'pandas.core.frame.DataFrame'>\n",
            "Int64Index: 3706 entries, 0 to 3705\n",
            "Data columns (total 2 columns):\n",
            " #   Column  Non-Null Count  Dtype \n",
            "---  ------  --------------  ----- \n",
            " 0   text    3706 non-null   object\n",
            " 1   label   3706 non-null   int64 \n",
            "dtypes: int64(1), object(1)\n",
            "memory usage: 86.9+ KB\n"
          ]
        }
      ]
    },
    {
      "cell_type": "markdown",
      "source": [
        "#### 특수 품사만 가려서 토큰화\n",
        "1. list_selector = ['NNG', 'NNP', 'NNB', 'NNBC', 'NR', 'NP', 'VV', 'VA']\n",
        "2. list_selector2 = {'NNG': 0, 'NNP': 0, 'NNB': 0, 'NNBC': 0, 'NR': 0,\n",
        "                  'NP': 0, 'VV': 0, 'VA': 0, 'VX': 0, 'VCP': 0,\n",
        "                  'VCN': 0, 'MAG': 0, 'JKS': 0, 'JKC': 0, 'JKG': 0,\n",
        "                  'JKO': 0, 'JKB': 0, 'JKV': 0, 'JKQ': 0, 'JC': 0,\n",
        "                  'JX': 0, 'XPN': 0, 'XSN': 0}\n",
        "3. 2번으로 선택된 토큰에서 라벨별 중복된 토큰 전부 제거"
      ],
      "metadata": {
        "id": "c0pB3MZ3QgrE"
      }
    },
    {
      "cell_type": "code",
      "source": [
        "# NNG 일반 명사, NNP 고유 명사, NNB 의존 명사, NNBC 단위를 나타내는 명사\n",
        "# NR 수사, NP 대명사, VV 동사, VA 형용사\n",
        "# list_selector = ['NNG', 'NNP', 'NNB', 'NNBC', 'NR', 'NP', 'VV', 'VA']\n",
        "list_selector2 = {'NNG': 0, 'NNP': 0, 'NNB': 0, 'NNBC': 0, 'NR': 0,\n",
        "                  'NP': 0, 'VV': 0, 'VA': 0, 'VX': 0, 'VCP': 0,\n",
        "                  'VCN': 0, 'MAG': 0, 'JKS': 0, 'JKC': 0, 'JKG': 0,\n",
        "                  'JKO': 0, 'JKB': 0, 'JKV': 0, 'JKQ': 0, 'JC': 0,\n",
        "                  'JX': 0, 'XPN': 0, 'XSN': 0}"
      ],
      "metadata": {
        "id": "oR4qXvHi6HmE"
      },
      "execution_count": 60,
      "outputs": []
    },
    {
      "cell_type": "code",
      "source": [
        "# mecab_pos 데이터에서 유효하다고 생각하는 품사만으로 parsing\n",
        "x_train = pd.DataFrame(columns=['text'])\n",
        "\n",
        "for i in range(len(mecab_pos)):\n",
        "    tmp = []\n",
        "    for j in range(len(mecab_pos[i])):\n",
        "        if mecab_pos[i][j][1] in list_selector2.keys():\n",
        "            tmp.append(mecab_pos[i][j][0])\n",
        "            # list_selector2[mecab_pos[i][j][1]] += 1\n",
        "\n",
        "    x_train.loc[i] = ' '.join(tmp)"
      ],
      "metadata": {
        "id": "BIFnDDbHz_ug"
      },
      "execution_count": 67,
      "outputs": []
    },
    {
      "cell_type": "code",
      "source": [
        "# 정제된 x_train에 y 값 추가\n",
        "x_train['label'] = data['label']\n",
        "\n",
        "label_dict = {\n",
        "    '코드1': 0,\n",
        "    '코드2': 0,\n",
        "    '웹': 1,\n",
        "    '이론': 2,\n",
        "    '시스템 운영': 3,\n",
        "    '원격': 4\n",
        "}\n",
        "\n",
        "# label 값을 범주형(int) 값으로 변경\n",
        "x_train['label'] = x_train.label.apply(lambda t:t.replace(t, str(label_dict[t])))\n",
        "x_train['label'] = x_train['label'].astype('int64')\n",
        "x_train.info()"
      ],
      "metadata": {
        "id": "l628jkLT9J_r",
        "outputId": "7d744d8f-4e79-4665-e288-5ad1ace407f2",
        "colab": {
          "base_uri": "https://localhost:8080/"
        }
      },
      "execution_count": 68,
      "outputs": [
        {
          "output_type": "stream",
          "name": "stdout",
          "text": [
            "<class 'pandas.core.frame.DataFrame'>\n",
            "Int64Index: 3706 entries, 0 to 3705\n",
            "Data columns (total 2 columns):\n",
            " #   Column  Non-Null Count  Dtype \n",
            "---  ------  --------------  ----- \n",
            " 0   text    3706 non-null   object\n",
            " 1   label   3706 non-null   int64 \n",
            "dtypes: int64(1), object(1)\n",
            "memory usage: 86.9+ KB\n"
          ]
        }
      ]
    },
    {
      "cell_type": "code",
      "source": [
        "# x_train을 라벨 값에 따라 구분\n",
        "x_train_0 = x_train.loc[x_train['label'] == 0].reset_index(drop=True)\n",
        "x_train_1 = x_train.loc[x_train['label'] == 1].reset_index(drop=True)\n",
        "x_train_2 = x_train.loc[x_train['label'] == 2].reset_index(drop=True)\n",
        "x_train_3 = x_train.loc[x_train['label'] == 3].reset_index(drop=True)\n",
        "x_train_4 = x_train.loc[x_train['label'] == 4].reset_index(drop=True)\n",
        "x_train_0.shape, x_train_1.shape, x_train_2.shape, x_train_3.shape, x_train_4.shape"
      ],
      "metadata": {
        "id": "z8rYE1K1hpRs",
        "outputId": "cbea320d-7559-4969-8ca7-818b4bff9f43",
        "colab": {
          "base_uri": "https://localhost:8080/"
        }
      },
      "execution_count": 69,
      "outputs": [
        {
          "output_type": "execute_result",
          "data": {
            "text/plain": [
              "((1585, 2), (732, 2), (728, 2), (561, 2), (100, 2))"
            ]
          },
          "metadata": {},
          "execution_count": 69
        }
      ]
    },
    {
      "cell_type": "code",
      "source": [
        "x_train_0_np = np.array(x_train_0['text'])\n",
        "x_train_1_np = np.array(x_train_1['text'])\n",
        "x_train_2_np = np.array(x_train_2['text'])\n",
        "x_train_3_np = np.array(x_train_3['text'])\n",
        "x_train_4_np = np.array(x_train_4['text'])"
      ],
      "metadata": {
        "id": "nruFAFWBiWX7"
      },
      "execution_count": 70,
      "outputs": []
    },
    {
      "cell_type": "code",
      "source": [
        "# nltk를 사용하여 각 label 마다 사용 빈도수 파악\n",
        "from nltk import Text, FreqDist\n",
        "from nltk.tokenize import RegexpTokenizer\n",
        "from nltk.tag import untag"
      ],
      "metadata": {
        "id": "SObNnVDYdfWW"
      },
      "execution_count": 71,
      "outputs": []
    },
    {
      "cell_type": "code",
      "source": [
        "retokenize = RegexpTokenizer('[\\w]+')"
      ],
      "metadata": {
        "id": "lWCapjw9hdCk"
      },
      "execution_count": 72,
      "outputs": []
    },
    {
      "cell_type": "code",
      "source": [
        "x_train_0_text = x_train_0_np.tolist()\n",
        "x_train_1_text = x_train_1_np.tolist()\n",
        "x_train_2_text = x_train_2_np.tolist()\n",
        "x_train_3_text = x_train_3_np.tolist()\n",
        "x_train_4_text = x_train_4_np.tolist()\n",
        "\n",
        "x_train_0_text = ' '.join(x_train_0_text)\n",
        "x_train_1_text = ' '.join(x_train_1_text)\n",
        "x_train_2_text = ' '.join(x_train_2_text)\n",
        "x_train_3_text = ' '.join(x_train_3_text)\n",
        "x_train_4_text = ' '.join(x_train_4_text)\n",
        "\n",
        "text_0 = Text(retokenize.tokenize(x_train_0_text))\n",
        "text_1 = Text(retokenize.tokenize(x_train_1_text))\n",
        "text_2 = Text(retokenize.tokenize(x_train_2_text))\n",
        "text_3 = Text(retokenize.tokenize(x_train_3_text))\n",
        "text_4 = Text(retokenize.tokenize(x_train_4_text))"
      ],
      "metadata": {
        "id": "pt4RoANhi22Z"
      },
      "execution_count": 73,
      "outputs": []
    },
    {
      "cell_type": "code",
      "source": [
        "fd_name_0 = FreqDist(text_0)\n",
        "fd_name_1 = FreqDist(text_1)\n",
        "fd_name_2 = FreqDist(text_2)\n",
        "fd_name_3 = FreqDist(text_3)\n",
        "fd_name_4 = FreqDist(text_4)\n",
        "fd_name_0.N(), fd_name_1.N(), fd_name_2.N(), fd_name_3.N(), fd_name_4.N()"
      ],
      "metadata": {
        "id": "aPHosgjmkD4i",
        "outputId": "436cecba-7b31-4ab0-85f5-288006441626",
        "colab": {
          "base_uri": "https://localhost:8080/"
        }
      },
      "execution_count": 74,
      "outputs": [
        {
          "output_type": "execute_result",
          "data": {
            "text/plain": [
              "(48722, 16617, 26208, 14205, 1822)"
            ]
          },
          "metadata": {},
          "execution_count": 74
        }
      ]
    },
    {
      "cell_type": "code",
      "source": [
        "fd_name_0"
      ],
      "metadata": {
        "id": "l6Pv9SqtmAjf",
        "outputId": "61f7f96d-7994-4bf5-e47d-a805d11215d0",
        "colab": {
          "base_uri": "https://localhost:8080/"
        }
      },
      "execution_count": 75,
      "outputs": [
        {
          "output_type": "execute_result",
          "data": {
            "text/plain": [
              "FreqDist({'가': 1743, '이': 1712, '을': 1559, '를': 1462, '에': 1164, '의': 1057, '있': 923, '에서': 797, '로': 728, '하': 707, ...})"
            ]
          },
          "metadata": {},
          "execution_count": 75
        }
      ]
    },
    {
      "cell_type": "code",
      "source": [
        "fd_name_0 = untag(fd_name_0.most_common())\n",
        "fd_name_1 = untag(fd_name_1.most_common())\n",
        "fd_name_2 = untag(fd_name_2.most_common())\n",
        "fd_name_3 = untag(fd_name_3.most_common())\n",
        "fd_name_4 = untag(fd_name_4.most_common())"
      ],
      "metadata": {
        "id": "JrEpETZgk1Km"
      },
      "execution_count": 76,
      "outputs": []
    },
    {
      "cell_type": "code",
      "source": [
        "for n in fd_name_0:\n",
        "    fd_name_0.remove(n)\n",
        "    if n in fd_name_1:\n",
        "        fd_name_1.remove(n)\n",
        "    if n in fd_name_2:\n",
        "        fd_name_2.remove(n)\n",
        "    if n in fd_name_3:\n",
        "        fd_name_3.remove(n)\n",
        "    if n in fd_name_4:\n",
        "        fd_name_4.remove(n)"
      ],
      "metadata": {
        "id": "0b1SFXx8lEPh"
      },
      "execution_count": 77,
      "outputs": []
    },
    {
      "cell_type": "code",
      "source": [
        "FreqDist(fd_name_0).N(), FreqDist(fd_name_1).N(), FreqDist(fd_name_2).N(), FreqDist(fd_name_3).N(), FreqDist(fd_name_4).N()"
      ],
      "metadata": {
        "id": "o5ZvdCPglZeI",
        "outputId": "f56eedef-2966-4039-a68b-ac62de074af6",
        "colab": {
          "base_uri": "https://localhost:8080/"
        }
      },
      "execution_count": 78,
      "outputs": [
        {
          "output_type": "execute_result",
          "data": {
            "text/plain": [
              "(1180, 877, 1651, 887, 244)"
            ]
          },
          "metadata": {},
          "execution_count": 78
        }
      ]
    },
    {
      "cell_type": "code",
      "source": [
        "# tmp0 = x_train_0.reset_index(drop=True)\n",
        "# tmp1 = x_train_1.reset_index(drop=True)\n",
        "# tmp2 = x_train_2.reset_index(drop=True)\n",
        "# tmp3 = x_train_3.reset_index(drop=True)\n",
        "# tmp4 = x_train_4.reset_index(drop=True)\n",
        "\n",
        "# tmp = pd.concat([tmp0, tmp1, tmp2, tmp3, tmp4], axis=0, join='outer')\n",
        "# tmp"
      ],
      "metadata": {
        "id": "MpRB3IkCpiCe"
      },
      "execution_count": 80,
      "outputs": []
    },
    {
      "cell_type": "code",
      "source": [
        "# tmp0['text_r'] = np.nan\n",
        "# tmp0"
      ],
      "metadata": {
        "id": "sywkcHTFuTrN"
      },
      "execution_count": 81,
      "outputs": []
    },
    {
      "cell_type": "code",
      "source": [
        "# tmp0['text'].shape[0]"
      ],
      "metadata": {
        "id": "OFkl1bZ_sHmX"
      },
      "execution_count": 82,
      "outputs": []
    },
    {
      "cell_type": "code",
      "source": [
        "x_train_0['text_r'] = np.nan\n",
        "x_train_1['text_r'] = np.nan\n",
        "x_train_2['text_r'] = np.nan\n",
        "x_train_3['text_r'] = np.nan\n",
        "x_train_4['text_r'] = np.nan"
      ],
      "metadata": {
        "id": "KJZ_I4Qp0uOU"
      },
      "execution_count": 83,
      "outputs": []
    },
    {
      "cell_type": "code",
      "source": [
        "for i in range(x_train_0.shape[0]):\n",
        "    tmp = []\n",
        "    tmp2 = list(x_train_0['text'].iloc[i].split())\n",
        "    for n in fd_name_0:\n",
        "        if n in tmp2:\n",
        "            tmp.append(n)\n",
        "    x_train_0['text_r'].loc[i] = ' '.join(tmp)\n",
        "\n",
        "for i in range(x_train_1.shape[0]):\n",
        "    tmp = []\n",
        "    tmp2 = list(x_train_1['text'].iloc[i].split())\n",
        "    for n in fd_name_0:\n",
        "        if n in tmp2:\n",
        "            tmp.append(n)\n",
        "    x_train_1['text_r'].loc[i] = ' '.join(tmp)\n",
        "\n",
        "for i in range(x_train_2.shape[0]):\n",
        "    tmp = []\n",
        "    tmp2 = list(x_train_2['text'].iloc[i].split())\n",
        "    for n in fd_name_0:\n",
        "        if n in tmp2:\n",
        "            tmp.append(n)\n",
        "    x_train_2['text_r'].loc[i] = ' '.join(tmp)\n",
        "\n",
        "for i in range(x_train_3.shape[0]):\n",
        "    tmp = []\n",
        "    tmp2 = list(x_train_3['text'].iloc[i].split())\n",
        "    for n in fd_name_0:\n",
        "        if n in tmp2:\n",
        "            tmp.append(n)\n",
        "    x_train_3['text_r'].loc[i] = ' '.join(tmp)\n",
        "\n",
        "for i in range(x_train_4.shape[0]):\n",
        "    tmp = []\n",
        "    tmp2 = list(x_train_4['text'].iloc[i].split())\n",
        "    for n in fd_name_0:\n",
        "        if n in tmp2:\n",
        "            tmp.append(n)\n",
        "    x_train_4['text_r'].loc[i] = ' '.join(tmp)"
      ],
      "metadata": {
        "id": "bdQU7W-HlahH",
        "outputId": "c81b184b-7ed2-48e8-c1ce-e2d88bd86cd5",
        "colab": {
          "base_uri": "https://localhost:8080/"
        }
      },
      "execution_count": 84,
      "outputs": [
        {
          "output_type": "stream",
          "name": "stderr",
          "text": [
            "<ipython-input-84-d7781e6a8343>:7: SettingWithCopyWarning: \n",
            "A value is trying to be set on a copy of a slice from a DataFrame\n",
            "\n",
            "See the caveats in the documentation: https://pandas.pydata.org/pandas-docs/stable/user_guide/indexing.html#returning-a-view-versus-a-copy\n",
            "  x_train_0['text_r'].loc[i] = ' '.join(tmp)\n",
            "<ipython-input-84-d7781e6a8343>:15: SettingWithCopyWarning: \n",
            "A value is trying to be set on a copy of a slice from a DataFrame\n",
            "\n",
            "See the caveats in the documentation: https://pandas.pydata.org/pandas-docs/stable/user_guide/indexing.html#returning-a-view-versus-a-copy\n",
            "  x_train_1['text_r'].loc[i] = ' '.join(tmp)\n",
            "<ipython-input-84-d7781e6a8343>:23: SettingWithCopyWarning: \n",
            "A value is trying to be set on a copy of a slice from a DataFrame\n",
            "\n",
            "See the caveats in the documentation: https://pandas.pydata.org/pandas-docs/stable/user_guide/indexing.html#returning-a-view-versus-a-copy\n",
            "  x_train_2['text_r'].loc[i] = ' '.join(tmp)\n",
            "<ipython-input-84-d7781e6a8343>:31: SettingWithCopyWarning: \n",
            "A value is trying to be set on a copy of a slice from a DataFrame\n",
            "\n",
            "See the caveats in the documentation: https://pandas.pydata.org/pandas-docs/stable/user_guide/indexing.html#returning-a-view-versus-a-copy\n",
            "  x_train_3['text_r'].loc[i] = ' '.join(tmp)\n",
            "<ipython-input-84-d7781e6a8343>:39: SettingWithCopyWarning: \n",
            "A value is trying to be set on a copy of a slice from a DataFrame\n",
            "\n",
            "See the caveats in the documentation: https://pandas.pydata.org/pandas-docs/stable/user_guide/indexing.html#returning-a-view-versus-a-copy\n",
            "  x_train_4['text_r'].loc[i] = ' '.join(tmp)\n"
          ]
        }
      ]
    },
    {
      "cell_type": "code",
      "source": [
        "x_train = pd.concat([x_train_0, x_train_1, x_train_2, x_train_3, x_train_4], axis=0, join='outer')\n",
        "x_train"
      ],
      "metadata": {
        "id": "b75i3SZd1cCo",
        "outputId": "eb02f971-4a33-46a6-cf95-764c06642b72",
        "colab": {
          "base_uri": "https://localhost:8080/",
          "height": 423
        }
      },
      "execution_count": 85,
      "outputs": [
        {
          "output_type": "execute_result",
          "data": {
            "text/plain": [
              "                                                 text  label  \\\n",
              "0   여기 서 커널 사이즈 은 단어 의 최대 길이 가 이 넘 않 가정 으로 그냥 으로 선언 것      0   \n",
              "1   를 사용 때 질문 에 가 포함 제대로 작동 않 것 같 질문 제공 주 파일 에 폴더 ...      0   \n",
              "2                                          오류 어떻 해결 좋      0   \n",
              "3   이렇게 하 안 에 폴더 안 에 이미지 들 이 저장 이해 이렇게 실행 폴더 에 이미지...      0   \n",
              "4   첨부 파일 에 번 에 정답 코드 로 시 다 패스 가 출력 문제 에서 요구 오답 경우...      0   \n",
              "..                                                ...    ...   \n",
              "95                                      원격 요청 다시 번 드리      4   \n",
              "96                     원격 지원 이 실패 종료 다시 도 안 다시 주 감사 합      4   \n",
              "97                                        혹시 원격 지원 부탁      4   \n",
              "98                        파일 이 아무리 찾 보이 않 혹시 원격 지원 부탁      4   \n",
              "99                 값 이 변경 이 안 되 으로 혹시 원격 지원 가능 계속 안 되      4   \n",
              "\n",
              "                                               text_r  \n",
              "0                           이 의 으로 것 않 선언 최대 길이 넘 사이즈  \n",
              "1                     이 를 으로 것 때 안 않 질문 사용 파일 적 정상 작동  \n",
              "2                                                  해결  \n",
              "3                             이 하 안 질문 실행 들 이해 저장 이미지  \n",
              "4   이 를 의 에서 하 코드 것 번 않 출력 과 파일 적 다음 첨부 시 수정 조건 문자...  \n",
              "..                                                ...  \n",
              "95                                            번 드리 요청  \n",
              "96                                   이 안 도 감사 실패 합 지원  \n",
              "97                                           혹시 부탁 지원  \n",
              "98                                이 않 파일 혹시 부탁 아무리 지원  \n",
              "99                                       이 으로 안 혹시 지원  \n",
              "\n",
              "[3706 rows x 3 columns]"
            ],
            "text/html": [
              "\n",
              "  <div id=\"df-e3bfe7c7-d768-4717-8c7b-213f0b5234c1\">\n",
              "    <div class=\"colab-df-container\">\n",
              "      <div>\n",
              "<style scoped>\n",
              "    .dataframe tbody tr th:only-of-type {\n",
              "        vertical-align: middle;\n",
              "    }\n",
              "\n",
              "    .dataframe tbody tr th {\n",
              "        vertical-align: top;\n",
              "    }\n",
              "\n",
              "    .dataframe thead th {\n",
              "        text-align: right;\n",
              "    }\n",
              "</style>\n",
              "<table border=\"1\" class=\"dataframe\">\n",
              "  <thead>\n",
              "    <tr style=\"text-align: right;\">\n",
              "      <th></th>\n",
              "      <th>text</th>\n",
              "      <th>label</th>\n",
              "      <th>text_r</th>\n",
              "    </tr>\n",
              "  </thead>\n",
              "  <tbody>\n",
              "    <tr>\n",
              "      <th>0</th>\n",
              "      <td>여기 서 커널 사이즈 은 단어 의 최대 길이 가 이 넘 않 가정 으로 그냥 으로 선언 것</td>\n",
              "      <td>0</td>\n",
              "      <td>이 의 으로 것 않 선언 최대 길이 넘 사이즈</td>\n",
              "    </tr>\n",
              "    <tr>\n",
              "      <th>1</th>\n",
              "      <td>를 사용 때 질문 에 가 포함 제대로 작동 않 것 같 질문 제공 주 파일 에 폴더 ...</td>\n",
              "      <td>0</td>\n",
              "      <td>이 를 으로 것 때 안 않 질문 사용 파일 적 정상 작동</td>\n",
              "    </tr>\n",
              "    <tr>\n",
              "      <th>2</th>\n",
              "      <td>오류 어떻 해결 좋</td>\n",
              "      <td>0</td>\n",
              "      <td>해결</td>\n",
              "    </tr>\n",
              "    <tr>\n",
              "      <th>3</th>\n",
              "      <td>이렇게 하 안 에 폴더 안 에 이미지 들 이 저장 이해 이렇게 실행 폴더 에 이미지...</td>\n",
              "      <td>0</td>\n",
              "      <td>이 하 안 질문 실행 들 이해 저장 이미지</td>\n",
              "    </tr>\n",
              "    <tr>\n",
              "      <th>4</th>\n",
              "      <td>첨부 파일 에 번 에 정답 코드 로 시 다 패스 가 출력 문제 에서 요구 오답 경우...</td>\n",
              "      <td>0</td>\n",
              "      <td>이 를 의 에서 하 코드 것 번 않 출력 과 파일 적 다음 첨부 시 수정 조건 문자...</td>\n",
              "    </tr>\n",
              "    <tr>\n",
              "      <th>...</th>\n",
              "      <td>...</td>\n",
              "      <td>...</td>\n",
              "      <td>...</td>\n",
              "    </tr>\n",
              "    <tr>\n",
              "      <th>95</th>\n",
              "      <td>원격 요청 다시 번 드리</td>\n",
              "      <td>4</td>\n",
              "      <td>번 드리 요청</td>\n",
              "    </tr>\n",
              "    <tr>\n",
              "      <th>96</th>\n",
              "      <td>원격 지원 이 실패 종료 다시 도 안 다시 주 감사 합</td>\n",
              "      <td>4</td>\n",
              "      <td>이 안 도 감사 실패 합 지원</td>\n",
              "    </tr>\n",
              "    <tr>\n",
              "      <th>97</th>\n",
              "      <td>혹시 원격 지원 부탁</td>\n",
              "      <td>4</td>\n",
              "      <td>혹시 부탁 지원</td>\n",
              "    </tr>\n",
              "    <tr>\n",
              "      <th>98</th>\n",
              "      <td>파일 이 아무리 찾 보이 않 혹시 원격 지원 부탁</td>\n",
              "      <td>4</td>\n",
              "      <td>이 않 파일 혹시 부탁 아무리 지원</td>\n",
              "    </tr>\n",
              "    <tr>\n",
              "      <th>99</th>\n",
              "      <td>값 이 변경 이 안 되 으로 혹시 원격 지원 가능 계속 안 되</td>\n",
              "      <td>4</td>\n",
              "      <td>이 으로 안 혹시 지원</td>\n",
              "    </tr>\n",
              "  </tbody>\n",
              "</table>\n",
              "<p>3706 rows × 3 columns</p>\n",
              "</div>\n",
              "      <button class=\"colab-df-convert\" onclick=\"convertToInteractive('df-e3bfe7c7-d768-4717-8c7b-213f0b5234c1')\"\n",
              "              title=\"Convert this dataframe to an interactive table.\"\n",
              "              style=\"display:none;\">\n",
              "        \n",
              "  <svg xmlns=\"http://www.w3.org/2000/svg\" height=\"24px\"viewBox=\"0 0 24 24\"\n",
              "       width=\"24px\">\n",
              "    <path d=\"M0 0h24v24H0V0z\" fill=\"none\"/>\n",
              "    <path d=\"M18.56 5.44l.94 2.06.94-2.06 2.06-.94-2.06-.94-.94-2.06-.94 2.06-2.06.94zm-11 1L8.5 8.5l.94-2.06 2.06-.94-2.06-.94L8.5 2.5l-.94 2.06-2.06.94zm10 10l.94 2.06.94-2.06 2.06-.94-2.06-.94-.94-2.06-.94 2.06-2.06.94z\"/><path d=\"M17.41 7.96l-1.37-1.37c-.4-.4-.92-.59-1.43-.59-.52 0-1.04.2-1.43.59L10.3 9.45l-7.72 7.72c-.78.78-.78 2.05 0 2.83L4 21.41c.39.39.9.59 1.41.59.51 0 1.02-.2 1.41-.59l7.78-7.78 2.81-2.81c.8-.78.8-2.07 0-2.86zM5.41 20L4 18.59l7.72-7.72 1.47 1.35L5.41 20z\"/>\n",
              "  </svg>\n",
              "      </button>\n",
              "      \n",
              "  <style>\n",
              "    .colab-df-container {\n",
              "      display:flex;\n",
              "      flex-wrap:wrap;\n",
              "      gap: 12px;\n",
              "    }\n",
              "\n",
              "    .colab-df-convert {\n",
              "      background-color: #E8F0FE;\n",
              "      border: none;\n",
              "      border-radius: 50%;\n",
              "      cursor: pointer;\n",
              "      display: none;\n",
              "      fill: #1967D2;\n",
              "      height: 32px;\n",
              "      padding: 0 0 0 0;\n",
              "      width: 32px;\n",
              "    }\n",
              "\n",
              "    .colab-df-convert:hover {\n",
              "      background-color: #E2EBFA;\n",
              "      box-shadow: 0px 1px 2px rgba(60, 64, 67, 0.3), 0px 1px 3px 1px rgba(60, 64, 67, 0.15);\n",
              "      fill: #174EA6;\n",
              "    }\n",
              "\n",
              "    [theme=dark] .colab-df-convert {\n",
              "      background-color: #3B4455;\n",
              "      fill: #D2E3FC;\n",
              "    }\n",
              "\n",
              "    [theme=dark] .colab-df-convert:hover {\n",
              "      background-color: #434B5C;\n",
              "      box-shadow: 0px 1px 3px 1px rgba(0, 0, 0, 0.15);\n",
              "      filter: drop-shadow(0px 1px 2px rgba(0, 0, 0, 0.3));\n",
              "      fill: #FFFFFF;\n",
              "    }\n",
              "  </style>\n",
              "\n",
              "      <script>\n",
              "        const buttonEl =\n",
              "          document.querySelector('#df-e3bfe7c7-d768-4717-8c7b-213f0b5234c1 button.colab-df-convert');\n",
              "        buttonEl.style.display =\n",
              "          google.colab.kernel.accessAllowed ? 'block' : 'none';\n",
              "\n",
              "        async function convertToInteractive(key) {\n",
              "          const element = document.querySelector('#df-e3bfe7c7-d768-4717-8c7b-213f0b5234c1');\n",
              "          const dataTable =\n",
              "            await google.colab.kernel.invokeFunction('convertToInteractive',\n",
              "                                                     [key], {});\n",
              "          if (!dataTable) return;\n",
              "\n",
              "          const docLinkHtml = 'Like what you see? Visit the ' +\n",
              "            '<a target=\"_blank\" href=https://colab.research.google.com/notebooks/data_table.ipynb>data table notebook</a>'\n",
              "            + ' to learn more about interactive tables.';\n",
              "          element.innerHTML = '';\n",
              "          dataTable['output_type'] = 'display_data';\n",
              "          await google.colab.output.renderOutput(dataTable, element);\n",
              "          const docLink = document.createElement('div');\n",
              "          docLink.innerHTML = docLinkHtml;\n",
              "          element.appendChild(docLink);\n",
              "        }\n",
              "      </script>\n",
              "    </div>\n",
              "  </div>\n",
              "  "
            ]
          },
          "metadata": {},
          "execution_count": 85
        }
      ]
    },
    {
      "cell_type": "markdown",
      "source": [
        "### 5-1-1 태그 표"
      ],
      "metadata": {
        "id": "--VK7tFDjeH5"
      }
    },
    {
      "cell_type": "markdown",
      "source": [
        "\n",
        "\"Mecab-ko (ntags=43)\"\\\n",
        "Tag\tDescription\\\n",
        "NNG\t일반 명사\\\n",
        "NNP\t고유 명사\\\n",
        "NNB\t의존 명사\\\n",
        "NNBC\t단위를 나타내는 명사\\\n",
        "NR\t수사\\\n",
        "NP\t대명사\\\n",
        "VV\t동사\\\n",
        "VA\t형용사\\\n",
        "VX\t보조 용언\\\n",
        "VCP\t긍정 지정사\\\n",
        "VCN\t부정 지정사\\\n",
        "MM\t관형사\\\n",
        "MAG\t일반 부사\\\n",
        "MAJ\t접속 부사\\\n",
        "IC\t감탄사\\\n",
        "JKS\t주격 조사\\\n",
        "JKC\t보격 조사\\\n",
        "JKG\t관형격 조사\\\n",
        "JKO\t목적격 조사\\\n",
        "JKB\t부사격 조사\\\n",
        "JKV\t호격 조사\\\n",
        "JKQ\t인용격 조사\\\n",
        "JC\t접속 조사\\\n",
        "JX\t보조사\\\n",
        "EP\t선어말어미\\\n",
        "EF\t종결 어미\\\n",
        "EC\t연결 어미\\\n",
        "ETN\t명사형 전성 어미\\\n",
        "ETM\t관형형 전성 어미\\\n",
        "XPN\t체언 접두사\\\n",
        "XSN\t명사파생 접미사\\\n",
        "XSV\t동사 파생 접미사\\\n",
        "XSA\t형용사 파생 접미사\n",
        "\t\n",
        "XR\t어근\\\n",
        "SF\t마침표, 물음표, 느낌표\\\n",
        "SE\t줄임표 …\\\n",
        "SSO\t여는 괄호 (, [\\\n",
        "SSC\t닫는 괄호 ), ]\\\n",
        "SC\t구분자 , · / :\\\n",
        "SY\t기타 기호\\\n",
        "SH\t한자\\\n",
        "SL\t외국어\\\n",
        "SN\t숫자"
      ],
      "metadata": {
        "id": "FGm3PGbGStJB"
      }
    },
    {
      "cell_type": "code",
      "source": [
        "min_text = len(data['text'].min())\n",
        "max_text = len(data['text'].max())\n",
        "\n",
        "min_text, max_text"
      ],
      "metadata": {
        "id": "DH5NOCWiQPxL",
        "outputId": "2fe611b5-a6e4-4572-b832-9644422f0b0f",
        "colab": {
          "base_uri": "https://localhost:8080/",
          "height": 226
        }
      },
      "execution_count": null,
      "outputs": [
        {
          "output_type": "error",
          "ename": "NameError",
          "evalue": "ignored",
          "traceback": [
            "\u001b[0;31m---------------------------------------------------------------------------\u001b[0m",
            "\u001b[0;31mNameError\u001b[0m                                 Traceback (most recent call last)",
            "\u001b[0;32m<ipython-input-1-8a6bc66736c3>\u001b[0m in \u001b[0;36m<cell line: 1>\u001b[0;34m()\u001b[0m\n\u001b[0;32m----> 1\u001b[0;31m \u001b[0mmin_text\u001b[0m \u001b[0;34m=\u001b[0m \u001b[0mlen\u001b[0m\u001b[0;34m(\u001b[0m\u001b[0mdata\u001b[0m\u001b[0;34m[\u001b[0m\u001b[0;34m'text'\u001b[0m\u001b[0;34m]\u001b[0m\u001b[0;34m.\u001b[0m\u001b[0mmin\u001b[0m\u001b[0;34m(\u001b[0m\u001b[0;34m)\u001b[0m\u001b[0;34m)\u001b[0m\u001b[0;34m\u001b[0m\u001b[0;34m\u001b[0m\u001b[0m\n\u001b[0m\u001b[1;32m      2\u001b[0m \u001b[0mmax_text\u001b[0m \u001b[0;34m=\u001b[0m \u001b[0mlen\u001b[0m\u001b[0;34m(\u001b[0m\u001b[0mdata\u001b[0m\u001b[0;34m[\u001b[0m\u001b[0;34m'text'\u001b[0m\u001b[0;34m]\u001b[0m\u001b[0;34m.\u001b[0m\u001b[0mmax\u001b[0m\u001b[0;34m(\u001b[0m\u001b[0;34m)\u001b[0m\u001b[0;34m)\u001b[0m\u001b[0;34m\u001b[0m\u001b[0;34m\u001b[0m\u001b[0m\n\u001b[1;32m      3\u001b[0m \u001b[0;34m\u001b[0m\u001b[0m\n\u001b[1;32m      4\u001b[0m \u001b[0mmin_text\u001b[0m\u001b[0;34m,\u001b[0m \u001b[0mmax_text\u001b[0m\u001b[0;34m\u001b[0m\u001b[0;34m\u001b[0m\u001b[0m\n",
            "\u001b[0;31mNameError\u001b[0m: name 'data' is not defined"
          ]
        }
      ]
    },
    {
      "cell_type": "code",
      "source": [
        "# ratio = the number of samples/number of words per sample\n",
        "the_number_of_samples = len(data['text'])\n",
        "sum = 0\n",
        "for n in data['text']:\n",
        "    sum += len(n)\n",
        "\n",
        "number_of_words_per_sample = sum / the_number_of_samples\n",
        "number_of_words_per_sample"
      ],
      "metadata": {
        "id": "fkKtqkdENqdM"
      },
      "execution_count": null,
      "outputs": []
    },
    {
      "cell_type": "code",
      "source": [],
      "metadata": {
        "id": "FugLoxYwhtBV"
      },
      "execution_count": null,
      "outputs": []
    },
    {
      "cell_type": "markdown",
      "metadata": {
        "id": "Tz-rwDCxMI6N"
      },
      "source": [
        "### 5-2. Train Validation split"
      ]
    },
    {
      "cell_type": "code",
      "execution_count": 38,
      "metadata": {
        "id": "tXlbXrB2MI6N",
        "outputId": "6725a75b-2282-46e3-98d6-ee301e7d7b06",
        "colab": {
          "base_uri": "https://localhost:8080/"
        }
      },
      "outputs": [
        {
          "output_type": "stream",
          "name": "stdout",
          "text": [
            "(2594, 2) (1112, 2)\n"
          ]
        }
      ],
      "source": [
        "from sklearn.model_selection import train_test_split\n",
        "\n",
        "train_data, test_data = train_test_split(x_train, test_size=0.3, random_state=1225)\n",
        "train_data.reset_index(drop=True, inplace=True)\n",
        "test_data.reset_index(drop=True, inplace=True)\n",
        "\n",
        "print(train_data.shape, test_data.shape)"
      ]
    },
    {
      "cell_type": "code",
      "source": [
        "x_train = train_data['text'].astype('str')\n",
        "x_test = test_data['text'].astype('str')\n",
        "\n",
        "y_train = train_data['label']\n",
        "y_test = test_data['label']"
      ],
      "metadata": {
        "id": "uw2PKkjxo7Sp"
      },
      "execution_count": 39,
      "outputs": []
    },
    {
      "cell_type": "code",
      "source": [
        "# x_train = x_train.to_list()\n",
        "# x_val = x_val.to_list()\n",
        "# x_test = x_test.to_list()"
      ],
      "metadata": {
        "id": "EFpoLcI5pV09"
      },
      "execution_count": null,
      "outputs": []
    },
    {
      "cell_type": "code",
      "source": [
        "# y_train = y_train.values\n",
        "# y_val = y_val.values\n",
        "# y_test = y_test.values"
      ],
      "metadata": {
        "id": "5LKv31wVqEg8"
      },
      "execution_count": null,
      "outputs": []
    },
    {
      "cell_type": "code",
      "source": [
        "# from tensorflow.keras.utils import to_categorical\n",
        "\n",
        "# class_n = len(y_train.unique())\n",
        "\n",
        "# y_train_c = to_categorical(y_train)\n",
        "# y_test_c = to_categorical(y_test)"
      ],
      "metadata": {
        "id": "z3nFUib7Lzki"
      },
      "execution_count": null,
      "outputs": []
    },
    {
      "cell_type": "markdown",
      "metadata": {
        "id": "F1Rq60H9MI6N"
      },
      "source": [
        "## 6. 데이터 처리"
      ]
    },
    {
      "cell_type": "markdown",
      "metadata": {
        "id": "axTM8FHUMI6N"
      },
      "source": [
        "### 6-1. 특수문자 제거(Optional)\n",
        "- [정규표현식 이용](https://docs.python.org/3/howto/regex.html)"
      ]
    },
    {
      "cell_type": "code",
      "execution_count": null,
      "metadata": {
        "id": "700NsOwNMI6N"
      },
      "outputs": [],
      "source": []
    },
    {
      "cell_type": "markdown",
      "metadata": {
        "id": "PkfQOOIHMI6O"
      },
      "source": [
        "### 6-2. N-grams (keras)\n",
        "> * [scikit-learn working with text data](https://scikit-learn.org/stable/tutorial/text_analytics/working_with_text_data.html#)\n",
        "> * [scikit-learn text feature extraction](https://scikit-learn.org/stable/modules/feature_extraction.html#text-feature-extraction)\n",
        "> * [한글 자료](https://datascienceschool.net/03%20machine%20learning/03.01.03%20Scikit-Learn%EC%9D%98%20%EB%AC%B8%EC%84%9C%20%EC%A0%84%EC%B2%98%EB%A6%AC%20%EA%B8%B0%EB%8A%A5.html)"
      ]
    },
    {
      "cell_type": "code",
      "execution_count": 40,
      "metadata": {
        "id": "AO6YWiRRMI6O"
      },
      "outputs": [],
      "source": [
        "from sklearn.feature_extraction.text import TfidfVectorizer\n",
        "from sklearn.feature_selection import SelectKBest\n",
        "from sklearn.feature_selection import f_classif\n",
        "\n",
        "# Vectorization parameters\n",
        "# Range (inclusive) of n-gram sizes for tokenizing text\n",
        "NGRAM_RANGE = (1,2)\n",
        "\n",
        "# Limit on the number of features. We use the top 20K features.\n",
        "TOP_K = 20000\n",
        "\n",
        "# Whether text should be split into word or character n-gram\n",
        "# One of 'word', 'char'\n",
        "TOKEN_MODE = 'word'\n",
        "\n",
        "# Minimum document / corpus frequency below which a token will be discarded.\n",
        "MIN_DOCUMENT_FREQUENCY = 2\n",
        "\n",
        "def ngram_vectorize(train_texts, train_labels, val_texts):\n",
        "    \"\"\"Vectorizes texts as n-gram vectors.\n",
        "\n",
        "    1 text = 1 tf-idf vector the length of vocabulary of unigrams + bigrams.\n",
        "\n",
        "    # Argurments\n",
        "        train_texts: list, training text strings.\n",
        "        train_labels: np.ndarray, training labels.\n",
        "        val_texts: list, validation text strings.\n",
        "\n",
        "    # Returns\n",
        "        x_train, x_val = vectorized training and validation texts\n",
        "\n",
        "    \"\"\"\n",
        "    # Create keyword arguments to pass to the 'tf-idf' vectorizer.\n",
        "    kwargs = {\n",
        "            'ngram_range': NGRAM_RANGE, # Use 1-grams + 2-grams.\n",
        "            'dtype': 'int32',\n",
        "            'strip_accents': 'unicode',\n",
        "            'decode_error': 'replace',\n",
        "            'analyzer': TOKEN_MODE, # Split text into word tokens.\n",
        "            'min_df': MIN_DOCUMENT_FREQUENCY,\n",
        "    }\n",
        "\n",
        "    vectorizer = TfidfVectorizer(**kwargs)\n",
        "\n",
        "    # Learn vocabulary from training texts and vectorize training texts.\n",
        "    x_train = vectorizer.fit_transform(train_texts)\n",
        "\n",
        "    # Vectorize validation texts.\n",
        "    x_val = vectorizer.transform(val_texts)\n",
        "\n",
        "    # Select top 'k' of the vectorized features.\n",
        "    selector = SelectKBest(f_classif, k=min(TOP_K, x_train.shape[1]))\n",
        "    selector.fit(x_train, train_labels)\n",
        "    x_train = selector.transform(x_train).astype(np.float32)\n",
        "    x_val = selector.transform(x_val).astype(np.float32)\n",
        "    return x_train, x_val"
      ]
    },
    {
      "cell_type": "code",
      "source": [
        "x_train_v, x_test_v = ngram_vectorize(x_train, y_train, x_test)"
      ],
      "metadata": {
        "id": "wlRXJfV5uFY6",
        "outputId": "bff8ab3a-986d-41e7-ed96-dfcc0b68a2b1",
        "colab": {
          "base_uri": "https://localhost:8080/"
        }
      },
      "execution_count": 41,
      "outputs": [
        {
          "output_type": "stream",
          "name": "stderr",
          "text": [
            "/usr/local/lib/python3.9/dist-packages/sklearn/feature_extraction/text.py:2072: UserWarning: Only (<class 'numpy.float64'>, <class 'numpy.float32'>, <class 'numpy.float16'>) 'dtype' should be used. int32 'dtype' will be converted to np.float64.\n",
            "  warnings.warn(\n"
          ]
        }
      ]
    },
    {
      "cell_type": "code",
      "source": [
        "print(type(x_train_v), type(x_test_v))\n",
        "print(x_train_v.shape[0], x_test_v.shape[0])"
      ],
      "metadata": {
        "id": "oRKbO4Zqx8ta",
        "outputId": "cc7a2d5a-4894-4bca-afae-0d397eb22ef6",
        "colab": {
          "base_uri": "https://localhost:8080/"
        }
      },
      "execution_count": 42,
      "outputs": [
        {
          "output_type": "stream",
          "name": "stdout",
          "text": [
            "<class 'scipy.sparse._csr.csr_matrix'> <class 'scipy.sparse._csr.csr_matrix'>\n",
            "2594 1112\n"
          ]
        }
      ]
    },
    {
      "cell_type": "markdown",
      "source": [
        "### 6-2-1. N-grams (sklearn)"
      ],
      "metadata": {
        "id": "5hPJ51aH5SUB"
      }
    },
    {
      "cell_type": "code",
      "source": [],
      "metadata": {
        "id": "NF69z4By5Vjs"
      },
      "execution_count": null,
      "outputs": []
    },
    {
      "cell_type": "markdown",
      "metadata": {
        "id": "eLUhKFc6MI6O"
      },
      "source": [
        "### 6-3. Sequence (keras, whatever)\n",
        "> * [keras text classification](https://keras.io/examples/nlp/text_classification_from_scratch/)\n",
        "> * [tensorflow text classification](https://www.tensorflow.org/tutorials/keras/text_classification)\n",
        "* tokenizer.fit_on_texts() : 주어진 텍스트 데이터에 대해 단어 사전 생성\n",
        "* 문장 길이 분포 살펴보기\n",
        "* 문장 길이를 구해서 기초통계량, histogram, boxplot을 그려보고 적절한 개수를 결정합니다.\n",
        "* tokenizer.texts_to_sequences() : 주어진 텍스트 데이터를 정수 시퀀스로 변환"
      ]
    },
    {
      "cell_type": "code",
      "execution_count": null,
      "metadata": {
        "id": "airL-E9WMI6O"
      },
      "outputs": [],
      "source": []
    },
    {
      "cell_type": "markdown",
      "metadata": {
        "id": "TCphZeJfMI6O"
      },
      "source": [
        "### 6-4. Word2Vec (gensim, optional) \n",
        "> * [gensim-word2vec-tutorial](https://radimrehurek.com/gensim/auto_examples/tutorials/run_word2vec.html#sphx-glr-auto-examples-tutorials-run-word2vec-py)\n",
        "> * [tensorflow-word2vec-tutorial](https://www.tensorflow.org/tutorials/text/word2vec?hl=ko)"
      ]
    },
    {
      "cell_type": "code",
      "execution_count": null,
      "metadata": {
        "id": "YlvBbqG3MI6O"
      },
      "outputs": [],
      "source": [
        "# 아래 함수는 제공합니다.\n",
        "def get_sent_embeddings(model, embedding_size, tokenized_words):\n",
        "\n",
        "    # 단어 임베딩 및 n_words의 크기가 0인 feature_vec 배열을 0으로 초기화합니다. \n",
        "    # 또한 model.wv.index2word를 사용하여 Word2Vec 모델의 어휘에 단어 세트를 생성합니다.\n",
        "    feature_vec = np.zeros((embedding_size,), dtype='float32')\n",
        "    n_words = 0\n",
        "    index2word_set = set(model.wv.index_to_key)\n",
        "\n",
        "    # 토큰화된 문장의 각 단어를 반복하고 Word2Vec 모델의 어휘에 존재하는지 확인합니다. \n",
        "    # 그렇다면 n_words가 증가하고 단어의 임베딩이 feature_vec에 추가됩니다.\n",
        "    for word in tokenized_words:\n",
        "        if word in index2word_set:\n",
        "            n_words += 1\n",
        "            feature_vec = np.add(feature_vec, model.wv[word])\n",
        "    \n",
        "    # Word2Vec 모델의 어휘에 있는 입력 문장에 단어가 있는지 확인합니다. \n",
        "    # 있다면 feature_vec를 n_words로 나누어 입력 문장의 평균 임베딩을 구합니다.\n",
        "    if (n_words > 0):\n",
        "        feature_vec = np.divide(feature_vec, n_words)\n",
        "        \n",
        "    return feature_vec\n",
        "def get_dataset(sentences, model, num_features):\n",
        "\n",
        "    # 각 문장에 대한 임베딩을 보유할 dataset이라는 빈 목록을 초기화합니다.\n",
        "    dataset = list()\n",
        "\n",
        "    # 문장의 각 문장을 반복하고 앞에서 설명한 get_sent_embeddings() 함수를 사용하여 문장에 대한 평균 임베딩을 생성합니다. \n",
        "    # 결과 문장 임베딩이 데이터 세트 목록에 추가됩니다.\n",
        "    for sent in sentences:\n",
        "        dataset.append(get_sent_embeddings(model, num_features, sent))\n",
        "\n",
        "    # 루프에서 생성된 문장 임베딩을 sent_embedding_vectors라는 2차원 배열에 쌓습니다. \n",
        "    sent_embedding_vectors = np.stack(dataset)\n",
        "    \n",
        "    return sent_embedding_vectors"
      ]
    },
    {
      "cell_type": "code",
      "execution_count": null,
      "metadata": {
        "id": "rb98jqmnMI6O"
      },
      "outputs": [],
      "source": []
    },
    {
      "cell_type": "markdown",
      "metadata": {
        "id": "mdwHW65RMI6O"
      },
      "source": [
        "### 6-5. 데이터 저장하기\n",
        "* N-gram, Sequence로 처리한 데이터 저장\n",
        "* sparse data에 대해서는 scipy.sparse.save_npz 활용"
      ]
    },
    {
      "cell_type": "code",
      "execution_count": 43,
      "metadata": {
        "id": "ggPYbeskMI6O"
      },
      "outputs": [],
      "source": [
        "import scipy.sparse\n",
        "path = '/content/drive/MyDrive/KT_Aivle_School/Data/4th_mini_project/'\n",
        "\n",
        "scipy.sparse.save_npz(os.path.join(path, 'train_dataset4'), x_train_v)\n",
        "scipy.sparse.save_npz(os.path.join(path, 'test_dataset4'), x_test_v)\n",
        "\n",
        "y_train.to_csv(os.path.join(path, 'y_train4.csv'))\n",
        "y_test.to_csv(os.path.join(path, 'y_test4.csv'))"
      ]
    },
    {
      "cell_type": "code",
      "source": [],
      "metadata": {
        "id": "im01oC6I18o4"
      },
      "execution_count": null,
      "outputs": []
    }
  ],
  "metadata": {
    "colab": {
      "provenance": [],
      "machine_shape": "hm",
      "include_colab_link": true
    },
    "kernelspec": {
      "display_name": "Python 3",
      "language": "python",
      "name": "python3"
    },
    "language_info": {
      "codemirror_mode": {
        "name": "ipython",
        "version": 3
      },
      "file_extension": ".py",
      "mimetype": "text/x-python",
      "name": "python",
      "nbconvert_exporter": "python",
      "pygments_lexer": "ipython3",
      "version": "3.8.8"
    },
    "gpuClass": "standard"
  },
  "nbformat": 4,
  "nbformat_minor": 0
}