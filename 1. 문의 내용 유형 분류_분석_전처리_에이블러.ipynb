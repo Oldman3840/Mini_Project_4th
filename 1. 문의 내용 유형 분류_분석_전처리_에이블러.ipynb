{
  "cells": [
    {
      "cell_type": "markdown",
      "metadata": {
        "id": "view-in-github",
        "colab_type": "text"
      },
      "source": [
        "<a href=\"https://colab.research.google.com/github/Oldman3840/Mini_Project_4th/blob/main/1.%20%EB%AC%B8%EC%9D%98%20%EB%82%B4%EC%9A%A9%20%EC%9C%A0%ED%98%95%20%EB%B6%84%EB%A5%98_%EB%B6%84%EC%84%9D_%EC%A0%84%EC%B2%98%EB%A6%AC_%EC%97%90%EC%9D%B4%EB%B8%94%EB%9F%AC.ipynb\" target=\"_parent\"><img src=\"https://colab.research.google.com/assets/colab-badge.svg\" alt=\"Open In Colab\"/></a>"
      ]
    },
    {
      "cell_type": "markdown",
      "metadata": {
        "id": "DQFmelHqMtFn"
      },
      "source": [
        "# **미니프로젝트 4차 1대1 문의 내용 유형 분류기**\n",
        "# 단계1 : 데이터 탐색\n",
        "\n",
        "### 문제 정의\n",
        "> 1:1 문의 내용 분류 문제<br>\n",
        "> 1. 문의 내용 분석\n",
        "> 2. 문의 내용 분류 모델 성능 평가\n",
        "### 학습 데이터\n",
        "> * 1:1 문의 내용 데이터 : train.csv\n",
        "\n",
        "### 변수 소개\n",
        "> * text : 문의 내용\n",
        "> * label : 문의 유형\n",
        "\n",
        "### References\n",
        "> * 한국어 처리\n",
        ">> * [konlpy - 한국어 처리 라이브러리](https://konlpy.org/ko/latest/)\n",
        ">> * [한국어 품사 태그 비교표](https://docs.google.com/spreadsheets/d/1OGAjUvalBuX-oZvZ_-9tEfYD2gQe7hTGsgUpiiBSXI8/edit#gid=0)\n",
        ">> * [한국어 품사 태깅 성능 비교](https://konlpy.org/ko/latest/morph/#comparison-between-pos-tagging-classes)\n",
        ">> * [한국어 시스템 사전](https://konlpy.org/ko/latest/data/#corpora)\n",
        "\n",
        "> * 자연어 처리\n",
        ">> * [NLTK](https://www.nltk.org/book/)\n",
        ">> * [gensim](https://radimrehurek.com/gensim/)\n",
        ">> * [Google guide](https://developers.google.com/machine-learning/guides/text-classification/step-2)\n",
        ">> * [WordCloud](https://amueller.github.io/word_cloud/)"
      ]
    },
    {
      "cell_type": "markdown",
      "metadata": {
        "id": "dWToio0hXNVS"
      },
      "source": [
        "## 1. 개발 환경 설정"
      ]
    },
    {
      "cell_type": "markdown",
      "metadata": {
        "id": "I_rCs78QJZmI"
      },
      "source": [
        "* 세부 요구사항\n",
        "  - 기본적으로 필요한 라이브러리를 import 하도록 코드가 작성되어 있습니다.\n",
        "  - 필요하다고 판단되는 라이브러리를 추가하세요.\n",
        "  - konlpy, mecab 설치 후 형태소 분석 함수 생성\n",
        "  - mecab 설치할 때 윈도우 pc에서 설치는 다른 방법으로 진행\n",
        "  - 윈도우 환경일 경우 KoNLPy의 라이브러리 설치가 제대로 이루어지지 않을 수 있습니다\n",
        "  - 윈도우 설치를 위한 참고 링크\n",
        "    - https://liveyourit.tistory.com/56"
      ]
    },
    {
      "cell_type": "markdown",
      "metadata": {
        "id": "4-m9DUCeMI6J"
      },
      "source": [
        "### 1-1. 라이브러리 설치"
      ]
    },
    {
      "cell_type": "code",
      "execution_count": 90,
      "metadata": {
        "id": "GjS5rx10MI6J",
        "outputId": "34032622-2809-4838-d4f3-e588ecb1708f",
        "colab": {
          "base_uri": "https://localhost:8080/"
        }
      },
      "outputs": [
        {
          "output_type": "stream",
          "name": "stdout",
          "text": [
            "Looking in indexes: https://pypi.org/simple, https://us-python.pkg.dev/colab-wheels/public/simple/\n",
            "Requirement already satisfied: konlpy in /usr/local/lib/python3.9/dist-packages (0.6.0)\n",
            "Requirement already satisfied: pandas in /usr/local/lib/python3.9/dist-packages (1.4.4)\n",
            "Requirement already satisfied: seaborn in /usr/local/lib/python3.9/dist-packages (0.12.2)\n",
            "Requirement already satisfied: gensim in /usr/local/lib/python3.9/dist-packages (4.3.1)\n",
            "Requirement already satisfied: wordcloud in /usr/local/lib/python3.9/dist-packages (1.8.2.2)\n",
            "Requirement already satisfied: python-mecab-ko in /usr/local/lib/python3.9/dist-packages (1.3.3)\n",
            "Requirement already satisfied: wget in /usr/local/lib/python3.9/dist-packages (3.2)\n",
            "Requirement already satisfied: JPype1>=0.7.0 in /usr/local/lib/python3.9/dist-packages (from konlpy) (1.4.1)\n",
            "Requirement already satisfied: numpy>=1.6 in /usr/local/lib/python3.9/dist-packages (from konlpy) (1.22.4)\n",
            "Requirement already satisfied: lxml>=4.1.0 in /usr/local/lib/python3.9/dist-packages (from konlpy) (4.9.2)\n",
            "Requirement already satisfied: pytz>=2020.1 in /usr/local/lib/python3.9/dist-packages (from pandas) (2022.7.1)\n",
            "Requirement already satisfied: python-dateutil>=2.8.1 in /usr/local/lib/python3.9/dist-packages (from pandas) (2.8.2)\n",
            "Requirement already satisfied: matplotlib!=3.6.1,>=3.1 in /usr/local/lib/python3.9/dist-packages (from seaborn) (3.7.1)\n",
            "Requirement already satisfied: scipy>=1.7.0 in /usr/local/lib/python3.9/dist-packages (from gensim) (1.10.1)\n",
            "Requirement already satisfied: smart-open>=1.8.1 in /usr/local/lib/python3.9/dist-packages (from gensim) (6.3.0)\n",
            "Requirement already satisfied: pillow in /usr/local/lib/python3.9/dist-packages (from wordcloud) (8.4.0)\n",
            "Requirement already satisfied: python-mecab-ko-dic in /usr/local/lib/python3.9/dist-packages (from python-mecab-ko) (2.1.1.post2)\n",
            "Requirement already satisfied: packaging in /usr/local/lib/python3.9/dist-packages (from JPype1>=0.7.0->konlpy) (23.0)\n",
            "Requirement already satisfied: fonttools>=4.22.0 in /usr/local/lib/python3.9/dist-packages (from matplotlib!=3.6.1,>=3.1->seaborn) (4.39.3)\n",
            "Requirement already satisfied: importlib-resources>=3.2.0 in /usr/local/lib/python3.9/dist-packages (from matplotlib!=3.6.1,>=3.1->seaborn) (5.12.0)\n",
            "Requirement already satisfied: contourpy>=1.0.1 in /usr/local/lib/python3.9/dist-packages (from matplotlib!=3.6.1,>=3.1->seaborn) (1.0.7)\n",
            "Requirement already satisfied: pyparsing>=2.3.1 in /usr/local/lib/python3.9/dist-packages (from matplotlib!=3.6.1,>=3.1->seaborn) (3.0.9)\n",
            "Requirement already satisfied: kiwisolver>=1.0.1 in /usr/local/lib/python3.9/dist-packages (from matplotlib!=3.6.1,>=3.1->seaborn) (1.4.4)\n",
            "Requirement already satisfied: cycler>=0.10 in /usr/local/lib/python3.9/dist-packages (from matplotlib!=3.6.1,>=3.1->seaborn) (0.11.0)\n",
            "Requirement already satisfied: six>=1.5 in /usr/local/lib/python3.9/dist-packages (from python-dateutil>=2.8.1->pandas) (1.16.0)\n",
            "Requirement already satisfied: zipp>=3.1.0 in /usr/local/lib/python3.9/dist-packages (from importlib-resources>=3.2.0->matplotlib!=3.6.1,>=3.1->seaborn) (3.15.0)\n"
          ]
        }
      ],
      "source": [
        "# 필요 라이브러리부터 설치할께요.\n",
        "!pip install konlpy pandas seaborn gensim wordcloud python-mecab-ko wget"
      ]
    },
    {
      "cell_type": "markdown",
      "metadata": {
        "id": "aLdjtoHPMI6K"
      },
      "source": [
        "### 1-2. 라이브러리 import"
      ]
    },
    {
      "cell_type": "code",
      "execution_count": 91,
      "metadata": {
        "id": "0xLlcwByMI6K"
      },
      "outputs": [],
      "source": [
        "from mecab import MeCab\n",
        "import numpy as np\n",
        "import matplotlib.pyplot as plt\n",
        "import seaborn as sns\n",
        "import pandas as pd\n",
        "from IPython.display import display\n",
        "import matplotlib.pyplot as plt\n",
        "import matplotlib.font_manager as fm\n",
        "from wordcloud import WordCloud\n",
        "from collections import Counter\n",
        "import wget, os\n",
        "\n",
        "plt.rc('font', family='NanumBarunGothic') "
      ]
    },
    {
      "cell_type": "markdown",
      "metadata": {
        "id": "BvgZfGfPMI6K"
      },
      "source": [
        "### 1-3. 한글 글꼴 설정(Windows)"
      ]
    },
    {
      "cell_type": "code",
      "execution_count": 92,
      "metadata": {
        "id": "EcospoR6MI6K",
        "outputId": "076ca9d1-928c-477a-86bd-52d65765c814",
        "colab": {
          "base_uri": "https://localhost:8080/"
        }
      },
      "outputs": [
        {
          "output_type": "stream",
          "name": "stderr",
          "text": [
            "WARNING:matplotlib.font_manager:findfont: Font family ['Malgun Gothic'] not found. Falling back to DejaVu Sans.\n"
          ]
        }
      ],
      "source": [
        "if not os.path.exists(\"malgun.ttf\"): \n",
        "    wget.download(\"https://www.wfonts.com/download/data/2016/06/13/malgun-gothic/malgun.ttf\")\n",
        "if 'malgun' not in fm.fontManager.findfont(\"Malgun Gothic\"):\n",
        "    fm.fontManager.addfont(\"malgun.ttf\")\n",
        "if plt.rcParams['font.family']!= [\"Malgun Gothic\"]:\n",
        "    plt.rcParams['font.family']= [font for font in fm.fontManager.ttflist if 'malgun.ttf' in font.fname][-1].name\n",
        "plt.rcParams['axes.unicode_minus'] = False #한글 폰트 사용시 마이너스 폰트 깨짐 해결\n",
        "assert plt.rcParams['font.family'] == [\"Malgun Gothic\"], \"한글 폰트가 설정되지 않았습니다.\"\n",
        "FONT_PATH = \"malgun.ttf\""
      ]
    },
    {
      "cell_type": "markdown",
      "metadata": {
        "id": "vAnXmjTkMI6K"
      },
      "source": [
        "### 1-4. 자바 경로 설정(Windows)"
      ]
    },
    {
      "cell_type": "code",
      "execution_count": 93,
      "metadata": {
        "id": "pATB6gQHMI6L"
      },
      "outputs": [],
      "source": [
        "os.environ['JAVA_HOME'] = \"C:\\Program Files\\Java\\jdk-19\""
      ]
    },
    {
      "cell_type": "markdown",
      "metadata": {
        "id": "ariFIXyYMI6L"
      },
      "source": [
        "### 1-3. 한글 글꼴 설정(Colab)"
      ]
    },
    {
      "cell_type": "code",
      "execution_count": 94,
      "metadata": {
        "id": "b0vkIMheMI6L",
        "outputId": "ecd0b194-b3d5-49c9-d2bb-6438e58662d4",
        "colab": {
          "base_uri": "https://localhost:8080/"
        }
      },
      "outputs": [
        {
          "output_type": "stream",
          "name": "stdout",
          "text": [
            "Reading package lists... Done\n",
            "Building dependency tree       \n",
            "Reading state information... Done\n",
            "fonts-nanum is already the newest version (20180306-3).\n",
            "0 upgraded, 0 newly installed, 0 to remove and 23 not upgraded.\n"
          ]
        }
      ],
      "source": [
        "!sudo apt-get install -y fonts-nanum"
      ]
    },
    {
      "cell_type": "code",
      "execution_count": 95,
      "metadata": {
        "id": "GjDXlRMXMI6L",
        "outputId": "f22b56a8-ca34-411f-d2ed-da77dee8cc32",
        "colab": {
          "base_uri": "https://localhost:8080/"
        }
      },
      "outputs": [
        {
          "output_type": "stream",
          "name": "stdout",
          "text": [
            "NanumGothic\n"
          ]
        }
      ],
      "source": [
        "FONT_PATH = '/usr/share/fonts/truetype/nanum/NanumGothic.ttf'\n",
        "font_name = fm.FontProperties(fname=FONT_PATH, size=10).get_name()\n",
        "print(font_name)\n",
        "plt.rcParams['font.family']=font_name\n",
        "assert plt.rcParams['font.family'] == [font_name], \"한글 폰트가 설정되지 않았습니다.\""
      ]
    },
    {
      "cell_type": "code",
      "source": [
        "!sudo apt-get install -y fonts-nanum\n",
        "!sudo fc-cache -fv\n",
        "!rm ~/.cache/matplotlib -rf"
      ],
      "metadata": {
        "id": "HGE6UprlI-Cc",
        "outputId": "9063799d-5a2f-4c82-ad39-62ad7ba57825",
        "colab": {
          "base_uri": "https://localhost:8080/"
        }
      },
      "execution_count": 96,
      "outputs": [
        {
          "output_type": "stream",
          "name": "stdout",
          "text": [
            "Reading package lists... Done\n",
            "Building dependency tree       \n",
            "Reading state information... Done\n",
            "fonts-nanum is already the newest version (20180306-3).\n",
            "0 upgraded, 0 newly installed, 0 to remove and 23 not upgraded.\n",
            "/usr/share/fonts: caching, new cache contents: 0 fonts, 1 dirs\n",
            "/usr/share/fonts/truetype: caching, new cache contents: 0 fonts, 3 dirs\n",
            "/usr/share/fonts/truetype/humor-sans: caching, new cache contents: 1 fonts, 0 dirs\n",
            "/usr/share/fonts/truetype/liberation: caching, new cache contents: 16 fonts, 0 dirs\n",
            "/usr/share/fonts/truetype/nanum: caching, new cache contents: 10 fonts, 0 dirs\n",
            "/usr/local/share/fonts: caching, new cache contents: 0 fonts, 0 dirs\n",
            "/root/.local/share/fonts: skipping, no such directory\n",
            "/root/.fonts: skipping, no such directory\n",
            "/usr/share/fonts/truetype: skipping, looped directory detected\n",
            "/usr/share/fonts/truetype/humor-sans: skipping, looped directory detected\n",
            "/usr/share/fonts/truetype/liberation: skipping, looped directory detected\n",
            "/usr/share/fonts/truetype/nanum: skipping, looped directory detected\n",
            "/var/cache/fontconfig: cleaning cache directory\n",
            "/root/.cache/fontconfig: not cleaning non-existent cache directory\n",
            "/root/.fontconfig: not cleaning non-existent cache directory\n",
            "fc-cache: succeeded\n"
          ]
        }
      ]
    },
    {
      "cell_type": "markdown",
      "metadata": {
        "id": "S0yzHcH6fdzJ"
      },
      "source": [
        "### 1-4. 구글드라이브 연결(Colab)"
      ]
    },
    {
      "cell_type": "code",
      "execution_count": 97,
      "metadata": {
        "id": "dd0SPbYdfhS9",
        "outputId": "88f76982-75f5-405e-9d84-cb2903941179",
        "colab": {
          "base_uri": "https://localhost:8080/"
        }
      },
      "outputs": [
        {
          "output_type": "stream",
          "name": "stdout",
          "text": [
            "Drive already mounted at /content/drive; to attempt to forcibly remount, call drive.mount(\"/content/drive\", force_remount=True).\n"
          ]
        }
      ],
      "source": [
        "from google.colab import drive\n",
        "drive.mount('/content/drive')"
      ]
    },
    {
      "cell_type": "markdown",
      "metadata": {
        "id": "bA-eHXdwBDCz"
      },
      "source": [
        "## 2.데이터 불러오기"
      ]
    },
    {
      "cell_type": "markdown",
      "metadata": {
        "id": "9OkifR5rnr2D"
      },
      "source": [
        "* 주어진 데이터\n",
        " - 학습 및 검증용 데이터 : train.csv"
      ]
    },
    {
      "cell_type": "markdown",
      "metadata": {
        "id": "pSbNaqTSZpDZ"
      },
      "source": [
        "### 2-1. 데이터 로딩\n",
        "\n",
        "* 다음 데이터를 불러옵니다.\n",
        "    * 학습 및 검증용 데이터 : train.csv\n",
        "    * shape를 확인합니다."
      ]
    },
    {
      "cell_type": "code",
      "execution_count": 98,
      "metadata": {
        "id": "j9cJwS3DMI6L"
      },
      "outputs": [],
      "source": [
        "path = '/content/drive/MyDrive/KT_Aivle_School/Data/4th_mini_project/train.csv'\n",
        "\n",
        "data = pd.read_csv(path)"
      ]
    },
    {
      "cell_type": "markdown",
      "metadata": {
        "id": "oSaZ_CYQMI6M"
      },
      "source": [
        "### 2-2. 데이터 확인하기\n",
        "* 문의 유형 분포 확인\n",
        "* data type, 결측치 확인"
      ]
    },
    {
      "cell_type": "code",
      "execution_count": 99,
      "metadata": {
        "id": "Amd1_VGMMI6M",
        "outputId": "dae820c6-0f87-428d-f7d9-86fb85ba6740",
        "colab": {
          "base_uri": "https://localhost:8080/",
          "height": 423
        }
      },
      "outputs": [
        {
          "output_type": "execute_result",
          "data": {
            "text/plain": [
              "                                                   text   label\n",
              "0     self.convs1 = nn.ModuleList([nn.Conv2d(1, Co, ...     코드2\n",
              "1     현재 이미지를 여러개 업로드 하기 위해 자바스크립트로 동적으로 폼 여러개 생성하는데...       웹\n",
              "2     glob.glob(PATH) 를 사용할 때 질문입니다.\\n\\nPATH에 [ ] 가 ...     코드2\n",
              "3     tmpp = tmp.groupby(by = 'Addr1', as_index=Fals...     코드2\n",
              "4     filename = TEST_IMAGE + str(round(frame_sec)) ...     코드2\n",
              "...                                                 ...     ...\n",
              "3701  토큰화 이후 train val 를 분리하고 각 train set, val set에 ...     코드2\n",
              "3702  올린 값들 중 최고점인 건가요? 아니면 최근에 올린 파일로 무조건 갱신인가요?\\n최...  시스템 운영\n",
              "3703  수업에서 cacoo랑 packet tracer를 배우는 이유가\\n\\n1. IT 인프...      이론\n",
              "3704  inplace =True 해도 값이 변경이 안되고 none으로 뜹니다. 혹시 원격지...      원격\n",
              "3705  상관관계는 그렇게 크지 않게 나오는데 p -value 값은 관련이 있게 나오는데 \\...      이론\n",
              "\n",
              "[3706 rows x 2 columns]"
            ],
            "text/html": [
              "\n",
              "  <div id=\"df-284b054a-e568-42d4-8c34-c24fe7237d44\">\n",
              "    <div class=\"colab-df-container\">\n",
              "      <div>\n",
              "<style scoped>\n",
              "    .dataframe tbody tr th:only-of-type {\n",
              "        vertical-align: middle;\n",
              "    }\n",
              "\n",
              "    .dataframe tbody tr th {\n",
              "        vertical-align: top;\n",
              "    }\n",
              "\n",
              "    .dataframe thead th {\n",
              "        text-align: right;\n",
              "    }\n",
              "</style>\n",
              "<table border=\"1\" class=\"dataframe\">\n",
              "  <thead>\n",
              "    <tr style=\"text-align: right;\">\n",
              "      <th></th>\n",
              "      <th>text</th>\n",
              "      <th>label</th>\n",
              "    </tr>\n",
              "  </thead>\n",
              "  <tbody>\n",
              "    <tr>\n",
              "      <th>0</th>\n",
              "      <td>self.convs1 = nn.ModuleList([nn.Conv2d(1, Co, ...</td>\n",
              "      <td>코드2</td>\n",
              "    </tr>\n",
              "    <tr>\n",
              "      <th>1</th>\n",
              "      <td>현재 이미지를 여러개 업로드 하기 위해 자바스크립트로 동적으로 폼 여러개 생성하는데...</td>\n",
              "      <td>웹</td>\n",
              "    </tr>\n",
              "    <tr>\n",
              "      <th>2</th>\n",
              "      <td>glob.glob(PATH) 를 사용할 때 질문입니다.\\n\\nPATH에 [ ] 가 ...</td>\n",
              "      <td>코드2</td>\n",
              "    </tr>\n",
              "    <tr>\n",
              "      <th>3</th>\n",
              "      <td>tmpp = tmp.groupby(by = 'Addr1', as_index=Fals...</td>\n",
              "      <td>코드2</td>\n",
              "    </tr>\n",
              "    <tr>\n",
              "      <th>4</th>\n",
              "      <td>filename = TEST_IMAGE + str(round(frame_sec)) ...</td>\n",
              "      <td>코드2</td>\n",
              "    </tr>\n",
              "    <tr>\n",
              "      <th>...</th>\n",
              "      <td>...</td>\n",
              "      <td>...</td>\n",
              "    </tr>\n",
              "    <tr>\n",
              "      <th>3701</th>\n",
              "      <td>토큰화 이후 train val 를 분리하고 각 train set, val set에 ...</td>\n",
              "      <td>코드2</td>\n",
              "    </tr>\n",
              "    <tr>\n",
              "      <th>3702</th>\n",
              "      <td>올린 값들 중 최고점인 건가요? 아니면 최근에 올린 파일로 무조건 갱신인가요?\\n최...</td>\n",
              "      <td>시스템 운영</td>\n",
              "    </tr>\n",
              "    <tr>\n",
              "      <th>3703</th>\n",
              "      <td>수업에서 cacoo랑 packet tracer를 배우는 이유가\\n\\n1. IT 인프...</td>\n",
              "      <td>이론</td>\n",
              "    </tr>\n",
              "    <tr>\n",
              "      <th>3704</th>\n",
              "      <td>inplace =True 해도 값이 변경이 안되고 none으로 뜹니다. 혹시 원격지...</td>\n",
              "      <td>원격</td>\n",
              "    </tr>\n",
              "    <tr>\n",
              "      <th>3705</th>\n",
              "      <td>상관관계는 그렇게 크지 않게 나오는데 p -value 값은 관련이 있게 나오는데 \\...</td>\n",
              "      <td>이론</td>\n",
              "    </tr>\n",
              "  </tbody>\n",
              "</table>\n",
              "<p>3706 rows × 2 columns</p>\n",
              "</div>\n",
              "      <button class=\"colab-df-convert\" onclick=\"convertToInteractive('df-284b054a-e568-42d4-8c34-c24fe7237d44')\"\n",
              "              title=\"Convert this dataframe to an interactive table.\"\n",
              "              style=\"display:none;\">\n",
              "        \n",
              "  <svg xmlns=\"http://www.w3.org/2000/svg\" height=\"24px\"viewBox=\"0 0 24 24\"\n",
              "       width=\"24px\">\n",
              "    <path d=\"M0 0h24v24H0V0z\" fill=\"none\"/>\n",
              "    <path d=\"M18.56 5.44l.94 2.06.94-2.06 2.06-.94-2.06-.94-.94-2.06-.94 2.06-2.06.94zm-11 1L8.5 8.5l.94-2.06 2.06-.94-2.06-.94L8.5 2.5l-.94 2.06-2.06.94zm10 10l.94 2.06.94-2.06 2.06-.94-2.06-.94-.94-2.06-.94 2.06-2.06.94z\"/><path d=\"M17.41 7.96l-1.37-1.37c-.4-.4-.92-.59-1.43-.59-.52 0-1.04.2-1.43.59L10.3 9.45l-7.72 7.72c-.78.78-.78 2.05 0 2.83L4 21.41c.39.39.9.59 1.41.59.51 0 1.02-.2 1.41-.59l7.78-7.78 2.81-2.81c.8-.78.8-2.07 0-2.86zM5.41 20L4 18.59l7.72-7.72 1.47 1.35L5.41 20z\"/>\n",
              "  </svg>\n",
              "      </button>\n",
              "      \n",
              "  <style>\n",
              "    .colab-df-container {\n",
              "      display:flex;\n",
              "      flex-wrap:wrap;\n",
              "      gap: 12px;\n",
              "    }\n",
              "\n",
              "    .colab-df-convert {\n",
              "      background-color: #E8F0FE;\n",
              "      border: none;\n",
              "      border-radius: 50%;\n",
              "      cursor: pointer;\n",
              "      display: none;\n",
              "      fill: #1967D2;\n",
              "      height: 32px;\n",
              "      padding: 0 0 0 0;\n",
              "      width: 32px;\n",
              "    }\n",
              "\n",
              "    .colab-df-convert:hover {\n",
              "      background-color: #E2EBFA;\n",
              "      box-shadow: 0px 1px 2px rgba(60, 64, 67, 0.3), 0px 1px 3px 1px rgba(60, 64, 67, 0.15);\n",
              "      fill: #174EA6;\n",
              "    }\n",
              "\n",
              "    [theme=dark] .colab-df-convert {\n",
              "      background-color: #3B4455;\n",
              "      fill: #D2E3FC;\n",
              "    }\n",
              "\n",
              "    [theme=dark] .colab-df-convert:hover {\n",
              "      background-color: #434B5C;\n",
              "      box-shadow: 0px 1px 3px 1px rgba(0, 0, 0, 0.15);\n",
              "      filter: drop-shadow(0px 1px 2px rgba(0, 0, 0, 0.3));\n",
              "      fill: #FFFFFF;\n",
              "    }\n",
              "  </style>\n",
              "\n",
              "      <script>\n",
              "        const buttonEl =\n",
              "          document.querySelector('#df-284b054a-e568-42d4-8c34-c24fe7237d44 button.colab-df-convert');\n",
              "        buttonEl.style.display =\n",
              "          google.colab.kernel.accessAllowed ? 'block' : 'none';\n",
              "\n",
              "        async function convertToInteractive(key) {\n",
              "          const element = document.querySelector('#df-284b054a-e568-42d4-8c34-c24fe7237d44');\n",
              "          const dataTable =\n",
              "            await google.colab.kernel.invokeFunction('convertToInteractive',\n",
              "                                                     [key], {});\n",
              "          if (!dataTable) return;\n",
              "\n",
              "          const docLinkHtml = 'Like what you see? Visit the ' +\n",
              "            '<a target=\"_blank\" href=https://colab.research.google.com/notebooks/data_table.ipynb>data table notebook</a>'\n",
              "            + ' to learn more about interactive tables.';\n",
              "          element.innerHTML = '';\n",
              "          dataTable['output_type'] = 'display_data';\n",
              "          await google.colab.output.renderOutput(dataTable, element);\n",
              "          const docLink = document.createElement('div');\n",
              "          docLink.innerHTML = docLinkHtml;\n",
              "          element.appendChild(docLink);\n",
              "        }\n",
              "      </script>\n",
              "    </div>\n",
              "  </div>\n",
              "  "
            ]
          },
          "metadata": {},
          "execution_count": 99
        }
      ],
      "source": [
        "data"
      ]
    },
    {
      "cell_type": "code",
      "source": [
        "data.info()"
      ],
      "metadata": {
        "id": "qNRsJXKuX_oH",
        "outputId": "1509e633-613d-48be-8053-7333c27cc844",
        "colab": {
          "base_uri": "https://localhost:8080/"
        }
      },
      "execution_count": 100,
      "outputs": [
        {
          "output_type": "stream",
          "name": "stdout",
          "text": [
            "<class 'pandas.core.frame.DataFrame'>\n",
            "RangeIndex: 3706 entries, 0 to 3705\n",
            "Data columns (total 2 columns):\n",
            " #   Column  Non-Null Count  Dtype \n",
            "---  ------  --------------  ----- \n",
            " 0   text    3706 non-null   object\n",
            " 1   label   3706 non-null   object\n",
            "dtypes: object(2)\n",
            "memory usage: 58.0+ KB\n"
          ]
        }
      ]
    },
    {
      "cell_type": "code",
      "source": [
        "data.isnull().sum()"
      ],
      "metadata": {
        "id": "hisAN1xNYA23",
        "outputId": "c4ee89bb-062d-4e95-c5db-bba7420f2eb2",
        "colab": {
          "base_uri": "https://localhost:8080/"
        }
      },
      "execution_count": 101,
      "outputs": [
        {
          "output_type": "execute_result",
          "data": {
            "text/plain": [
              "text     0\n",
              "label    0\n",
              "dtype: int64"
            ]
          },
          "metadata": {},
          "execution_count": 101
        }
      ]
    },
    {
      "cell_type": "markdown",
      "metadata": {
        "id": "5U2AP87sMbD8"
      },
      "source": [
        "## 3.데이터 탐색하기\n"
      ]
    },
    {
      "cell_type": "markdown",
      "metadata": {
        "id": "TyhnUaTQMI6M"
      },
      "source": [
        "### 3-1. 문의 내용 길이 분포\n",
        "\n",
        "* 문의 내용의 길이 분포를 확인합니다.\n",
        "* 최소, 최대 길이의 index 및 문의 내용을 확인합니다."
      ]
    },
    {
      "cell_type": "code",
      "execution_count": 102,
      "metadata": {
        "id": "itHSLNlkMI6M",
        "outputId": "851a8bc2-b7b3-48b9-bd56-da1a710e240e",
        "colab": {
          "base_uri": "https://localhost:8080/"
        }
      },
      "outputs": [
        {
          "output_type": "stream",
          "name": "stdout",
          "text": [
            "최대 길이 문의 index: Int64Index([3384], dtype='int64') \n",
            "최대 길이 문장 내용: \n",
            "히스토그램과 바 그래프의 차이와 각각 어느 데이터의 경우에 대해 활용하면 좋을지 구분하여 알려주시면 감사하겠습니다.\n",
            "최소 길이 문의 index: Int64Index([230], dtype='int64') \n",
            "최소 길이 문장 내용: \n",
            "\n",
            "\n",
            "\n",
            "\n",
            "이 코드에서 어떤 부분이 틀린것인지에 대해서 잘 모르겠습니다.\n",
            "\n",
            "혹시 테스트케이스를 알수있을까요?\n",
            "\n",
            "# 깊이 우선탐색\n",
            "\n",
            "\n",
            "\n",
            "n,m = map(int,input().split())\n",
            "\n",
            "graph = [[] for _ in range(n+1)]\n",
            "\n",
            "for _ in range(m):\n",
            "    a,b = map(int,input().split())\n",
            "    graph[a].append(b)\n",
            "    graph[b].append(a)\n",
            "\n",
            "visited = []\n",
            "def dfs(start,graph,visited):\n",
            "    if start in visited:\n",
            "        return\n",
            "    visited.append(start)\n",
            "    \n",
            "    for node in graph[start]:\n",
            "        dfs(node,graph,visited)\n",
            "    return visited\n",
            "\n",
            "a = dfs(1,graph,visited)\n",
            "for i in a:\n",
            "    print(i,end = ' ')\n",
            "    \n",
            "    \n",
            "\n"
          ]
        }
      ],
      "source": [
        "max_str = data['text'].max()\n",
        "min_str = data['text'].min()\n",
        "\n",
        "max_str_idx = data.loc[data['text'] == max_str].index\n",
        "min_str_idx = data.loc[data['text'] == min_str].index\n",
        "\n",
        "print(f'최대 길이 문의 index: {max_str_idx} \\n최대 길이 문장 내용: \\n{max_str}')\n",
        "print(f'최소 길이 문의 index: {min_str_idx} \\n최소 길이 문장 내용: \\n{min_str}')"
      ]
    },
    {
      "cell_type": "markdown",
      "metadata": {
        "id": "d6x8kccCMI6M"
      },
      "source": [
        "### 3-2. 명사 추출하고 품사 태깅하기\n",
        "\n",
        "* konlpy, MeCab을 활용하여 품사 태깅, 명사 추출하기.\n",
        "* 2개 이상의 형태소 분석기를 Time analysis 해보기\n",
        "* Number of Samples / Number of words per sample 구해보기"
      ]
    },
    {
      "cell_type": "code",
      "execution_count": 103,
      "metadata": {
        "id": "W0ECv_N5MI6M"
      },
      "outputs": [],
      "source": [
        "from konlpy.tag import *"
      ]
    },
    {
      "cell_type": "code",
      "source": [
        "def Text_Separator(array, operator):\n",
        "    nouns, pos = [], []\n",
        "    print(f'class {operator}의 PoS, 명사 추출 시간: ')\n",
        "    for n in array:\n",
        "        tmp = []\n",
        "        tmp = operator.nouns(n)\n",
        "        nouns.append(tmp)\n",
        "        tmp = operator.pos(n)\n",
        "        pos.append(tmp)\n",
        "\n",
        "    nouns = np.concatenate(nouns).tolist()\n",
        "    # pos = np.concatenate(pos).tolist()\n",
        "\n",
        "    return nouns, pos\n",
        "      "
      ],
      "metadata": {
        "id": "JqZgaqNlajHy"
      },
      "execution_count": 104,
      "outputs": []
    },
    {
      "cell_type": "code",
      "source": [
        "okt = Okt()\n",
        "mecab = MeCab()\n",
        "hannanum = Hannanum()\n",
        "kkma = Kkma()\n",
        "komoran = Komoran()"
      ],
      "metadata": {
        "id": "iEXKXaXuZxwQ"
      },
      "execution_count": 105,
      "outputs": []
    },
    {
      "cell_type": "code",
      "source": [
        "%time okt_noun, okt_PoS = Text_Separator(data['text'].values, okt)\n",
        "%time mecab_noun, mecab_PoS = Text_Separator(data['text'].values, mecab)\n",
        "# %time hannanum_noun, hannanum_PoS = Text_Separator(data['text'].values, hannanum)\n",
        "# %time kkma_noun, kkma_PoS = Text_Separator(data['text'].values, kkma)\n",
        "# %time komoran_noun, komoran_PoS = Text_Separator(data['text'].values, komoran)"
      ],
      "metadata": {
        "id": "9uFl7gTItSRs",
        "outputId": "62ba28b1-0aa5-4a34-d08c-200e47023aa3",
        "colab": {
          "base_uri": "https://localhost:8080/"
        }
      },
      "execution_count": 106,
      "outputs": [
        {
          "output_type": "stream",
          "name": "stdout",
          "text": [
            "class <konlpy.tag._okt.Okt object at 0x7f1dd0f4a4f0>의 PoS, 명사 추출 시간: \n",
            "CPU times: user 44.8 s, sys: 263 ms, total: 45 s\n",
            "Wall time: 41.6 s\n",
            "class <mecab.mecab.MeCab object at 0x7f1dd0f4ab80>의 PoS, 명사 추출 시간: \n",
            "CPU times: user 5.53 s, sys: 39.8 ms, total: 5.57 s\n",
            "Wall time: 5.54 s\n"
          ]
        }
      ]
    },
    {
      "cell_type": "markdown",
      "metadata": {
        "id": "1xlMEFqdMI6M"
      },
      "source": [
        "### 3-3. nltk로 텍스트 분석하기\n",
        "* 3-2.의 명사 추출, 품사 태깅한 데이터를 nltk Text로 변경하기\n",
        "* 각각 token 갯수 / 전체 token 비율(Type-Token Ratio) 알아보기\n",
        "* 각각 Frequency 확인 및 분포 시각화\n",
        "* 명사 추출한 데이터에서 코드, 웹, 이론, 원격, 시스템 등 관심있는 각 단어에 분석해보기\n",
        "* 각각 collocation 확인\n",
        "* 최소 길이 문의 내용에 대해 grammar pasing 해보기(아래 코드 활용)\n",
        "\n",
        "\n",
        "```python\n",
        "grammar = \"\"\"\n",
        "NP: {<N.*>*<Suffix>?}   # Noun phrase\n",
        "VP: {<V.*>*}            # Verb phrase\n",
        "AP: {<A.*>*}            # Adjective phrase\n",
        "\"\"\"\n",
        "NP_grammar = \"NP: {<Adjective>*<Noun>*}\"\n",
        "```"
      ]
    },
    {
      "cell_type": "code",
      "execution_count": 107,
      "metadata": {
        "id": "zG9wqZ1SMI6M",
        "outputId": "c0962654-a3a4-4ce4-fc61-031781fe5554",
        "colab": {
          "base_uri": "https://localhost:8080/"
        }
      },
      "outputs": [
        {
          "output_type": "stream",
          "name": "stdout",
          "text": [
            "63167\n",
            "3865\n",
            "0.06118701220574034\n",
            "57025\n",
            "3423\n",
            "0.060026304252520826\n",
            "okt frequency distribution: <FreqDist with 3865 samples and 63167 outcomes>\n",
            "mecab frequency distribution: <FreqDist with 3423 samples and 57025 outcomes>\n"
          ]
        }
      ],
      "source": [
        "# * 3-2.의 명사 추출, 품사 태깅한 데이터를 nltk Text로 변경하기\n",
        "import nltk\n",
        "from nltk.tokenize import word_tokenize\n",
        "\n",
        "nt_okt_nouns = nltk.Text(okt_noun)\n",
        "nt_mecab_nouns = nltk.Text(mecab_noun)\n",
        "\n",
        "# * 각각 token 갯수 / 전체 token 비율(Type-Token Ratio) 알아보기\n",
        "print(len(nt_okt_nouns))\n",
        "print(len(set(nt_okt_nouns)))\n",
        "print(len(set(nt_okt_nouns)) / len(nt_okt_nouns))\n",
        "print(len(nt_mecab_nouns))\n",
        "print(len(set(nt_mecab_nouns)))\n",
        "print(len(set(nt_mecab_nouns)) / len(nt_mecab_nouns))\n",
        "\n",
        "print(f'okt frequency distribution: {nt_okt_nouns.vocab()}')\n",
        "print(f'mecab frequency distribution: {nt_mecab_nouns.vocab()}')"
      ]
    },
    {
      "cell_type": "code",
      "source": [
        "# * 각각 Frequency 확인 및 분포 시각화\n",
        "nt_okt_nouns.plot(20)\n",
        "nt_mecab_nouns.plot(20)"
      ],
      "metadata": {
        "id": "UEKgMNJt2EaH",
        "outputId": "53bdc260-360f-462e-bc4e-f6be738253c3",
        "colab": {
          "base_uri": "https://localhost:8080/",
          "height": 947
        }
      },
      "execution_count": 108,
      "outputs": [
        {
          "output_type": "display_data",
          "data": {
            "text/plain": [
              "<Figure size 640x480 with 1 Axes>"
            ],
            "image/png": "[encoded data removed]"
          },
          "metadata": {}
        },
        {
          "output_type": "display_data",
          "data": {
            "text/plain": [
              "<Figure size 640x480 with 1 Axes>"
            ],
            "image/png": "[encoded data removed]"
          },
          "metadata": {}
        },
        {
          "output_type": "execute_result",
          "data": {
            "text/plain": [
              "<Axes: xlabel='Samples', ylabel='Counts'>"
            ]
          },
          "metadata": {},
          "execution_count": 108
        }
      ]
    },
    {
      "cell_type": "code",
      "source": [
        "nt_okt_pos = nltk.Text(okt_PoS)\n",
        "nt_mecab_pos = nltk.Text(mecab_PoS)"
      ],
      "metadata": {
        "id": "4jBXm8RCQ1SY"
      },
      "execution_count": 109,
      "outputs": []
    },
    {
      "cell_type": "code",
      "source": [
        "from nltk import FreqDist"
      ],
      "metadata": {
        "id": "vZSrLNP3W6e0"
      },
      "execution_count": 110,
      "outputs": []
    },
    {
      "cell_type": "code",
      "source": [
        "fd_okt = FreqDist(okt_PoS[0])"
      ],
      "metadata": {
        "id": "dQ6zr-wbcETa"
      },
      "execution_count": 113,
      "outputs": []
    },
    {
      "cell_type": "code",
      "source": [
        "fd_okt.most_common(30)"
      ],
      "metadata": {
        "id": "I-qeoKJjcNe-",
        "outputId": "5ffd1057-3237-4cfe-9b20-d089474f2214",
        "colab": {
          "base_uri": "https://localhost:8080/"
        }
      },
      "execution_count": 116,
      "outputs": [
        {
          "output_type": "execute_result",
          "data": {
            "text/plain": [
              "[(('.', 'Punctuation'), 5),\n",
              " ((',', 'Punctuation'), 4),\n",
              " (('100', 'Number'), 4),\n",
              " (('1', 'Number'), 3),\n",
              " (('K', 'Alpha'), 3),\n",
              " (('nn', 'Alpha'), 2),\n",
              " (('(', 'Punctuation'), 2),\n",
              " (('으로', 'Josa'), 2),\n",
              " (('self', 'Alpha'), 1),\n",
              " (('convs', 'Alpha'), 1),\n",
              " (('=', 'Punctuation'), 1),\n",
              " (('ModuleList', 'Alpha'), 1),\n",
              " (('([', 'Punctuation'), 1),\n",
              " (('Conv', 'Alpha'), 1),\n",
              " (('2', 'Number'), 1),\n",
              " (('d', 'Alpha'), 1),\n",
              " (('Co', 'Alpha'), 1),\n",
              " (('))', 'Punctuation'), 1),\n",
              " (('for', 'Alpha'), 1),\n",
              " (('in', 'Alpha'), 1),\n",
              " (('Ks', 'Alpha'), 1),\n",
              " (('])', 'Punctuation'), 1),\n",
              " (('\\n', 'Foreign'), 1),\n",
              " (('여기', 'Noun'), 1),\n",
              " (('서', 'Josa'), 1),\n",
              " (('커널', 'Noun'), 1),\n",
              " (('사이즈', 'Noun'), 1),\n",
              " (('은', 'Noun'), 1),\n",
              " (('한', 'Verb'), 1),\n",
              " (('단어', 'Noun'), 1)]"
            ]
          },
          "metadata": {},
          "execution_count": 116
        }
      ]
    },
    {
      "cell_type": "code",
      "source": [
        "grammar = \"\"\"\n",
        "NP: {<N.*>*<Suffix>?}   # Noun phrase\n",
        "VP: {<V.*>*}            # Verb phrase\n",
        "AP: {<A.*>*}            # Adjective phrase\n",
        "\"\"\"\n",
        "NP_grammar = \"NP: {<Adjective>*<Noun>*}\"\n",
        "\n",
        "parser_ko = nltk.RegexpParser(grammar)\n",
        "chunks_ko = parser_ko.parse(okt_PoS[0])\n",
        "\n"
      ],
      "metadata": {
        "id": "Oss1lUHkVqsz"
      },
      "execution_count": 111,
      "outputs": []
    },
    {
      "cell_type": "code",
      "source": [
        "# * 각각 token 갯수 / 전체 token 비율(Type-Token Ratio) 알아보기\n",
        "print(len(nt_okt_pos))\n",
        "print(len(set(nt_okt_pos)))\n",
        "print(len(set(nt_okt_pos)) / len(nt_okt_pos))\n",
        "print(len(nt_mecab_pos))\n",
        "print(len(set(nt_mecab_pos)))\n",
        "print(len(set(nt_mecab_pos)) / len(nt_mecab_pos))\n",
        "\n",
        "print(f'okt frequency distribution: {nt_okt_pos.vocab()}')\n",
        "print(f'mecab frequency distribution: {nt_mecab_pos.vocab()}')"
      ],
      "metadata": {
        "id": "8Ok0unlkVprH"
      },
      "execution_count": null,
      "outputs": []
    },
    {
      "cell_type": "markdown",
      "metadata": {
        "id": "1niKqD7FMI6M"
      },
      "source": [
        "### 3-4. Wordcloud 만들기\n",
        "* 명사 추출/형태소 분석 결과를 이용하여 WordCloud 객체를 생성\n",
        "* 최대 글꼴 크기(max_font_size), 최대 단어 수(max_words), 배경 색상(background_color)\n",
        "* 상대 크기비율(relative_scaling), 그림 크기(width, height), 폰트 경로(font_path=FONT_PATH) 등 설정\n",
        "* .generate 메서드를 연결하여 WordCloud에 사용될 텍스트 데이터 생성\n",
        "* plt.imshow(  ) 를 통해 화면에 보여집니다."
      ]
    },
    {
      "cell_type": "code",
      "execution_count": 33,
      "metadata": {
        "id": "l4YF7CYbMI6N",
        "outputId": "eff91f79-44ea-4506-bc30-91374ed73588",
        "colab": {
          "base_uri": "https://localhost:8080/",
          "height": 571
        }
      },
      "outputs": [
        {
          "output_type": "display_data",
          "data": {
            "text/plain": [
              "<Figure size 640x480 with 1 Axes>"
            ],
            "image/png": "[encoded data removed]"
          },
          "metadata": {}
        },
        {
          "output_type": "stream",
          "name": "stdout",
          "text": [
            "\n"
          ]
        },
        {
          "output_type": "display_data",
          "data": {
            "text/plain": [
              "<Figure size 640x480 with 1 Axes>"
            ],
            "image/png": "[encoded data removed]"
          },
          "metadata": {}
        }
      ],
      "source": [
        "# 명사 추출/형태소 분석 결과를 이용하여 WordCloud 객체를 생성\n",
        "wc = WordCloud(font_path = FONT_PATH, # 한글 글씨체 설정\n",
        "               background_color='white', # 배경색은 흰색으로 \n",
        "               colormap='Reds', # 글씨색은 빨간색으로\n",
        "               )\n",
        "# 최대 글꼴 크기(max_font_size), 최대 단어 수(max_words), 배경 색상(background_color)\n",
        "# 상대 크기비율(relative_scaling), 그림 크기(width, height), 폰트 경로(font_path=FONT_PATH) 등 설정\n",
        "# .generate 메서드를 연결하여 WordCloud에 사용될 텍스트 데이터 생성\n",
        "\n",
        "okt_counts = Counter(okt_noun_list)\n",
        "okt_tags = okt_counts.most_common(30)\n",
        "okt_cloud = wc.generate_from_frequencies(dict(okt_tags))\n",
        "# plt.imshow( ) 를 통해 화면에 보여집니다.\n",
        "plt.imshow(okt_cloud)\n",
        "plt.axis('off')\n",
        "plt.show()\n",
        "print()\n",
        "mecab_counts = Counter(okt_noun_list)\n",
        "mecab_tags = mecab_counts.most_common(30)\n",
        "mecab_cloud = wc.generate_from_frequencies(dict(mecab_tags))\n",
        "# plt.imshow( ) 를 통해 화면에 보여집니다.\n",
        "plt.imshow(mecab_cloud)\n",
        "plt.axis('off')\n",
        "plt.show()"
      ]
    },
    {
      "cell_type": "code",
      "source": [
        "okt_counts = Counter(okt_PoS)\n",
        "okt_tags = okt_counts.most_common(30)\n",
        "okt_cloud = wc.generate_from_frequencies(dict(okt_tags))\n",
        "# plt.imshow( ) 를 통해 화면에 보여집니다.\n",
        "plt.imshow(okt_cloud)\n",
        "plt.axis('off')\n",
        "plt.show()"
      ],
      "metadata": {
        "id": "eI5dDbn4QUrm",
        "outputId": "b201b4d9-c16c-4628-b93d-4b6973817979",
        "colab": {
          "base_uri": "https://localhost:8080/",
          "height": 396
        }
      },
      "execution_count": 35,
      "outputs": [
        {
          "output_type": "error",
          "ename": "TypeError",
          "evalue": "ignored",
          "traceback": [
            "\u001b[0;31m---------------------------------------------------------------------------\u001b[0m",
            "\u001b[0;31mTypeError\u001b[0m                                 Traceback (most recent call last)",
            "\u001b[0;32m<ipython-input-35-66fc14cd3e2d>\u001b[0m in \u001b[0;36m<cell line: 1>\u001b[0;34m()\u001b[0m\n\u001b[0;32m----> 1\u001b[0;31m \u001b[0mokt_counts\u001b[0m \u001b[0;34m=\u001b[0m \u001b[0mCounter\u001b[0m\u001b[0;34m(\u001b[0m\u001b[0mokt_PoS\u001b[0m\u001b[0;34m)\u001b[0m\u001b[0;34m\u001b[0m\u001b[0;34m\u001b[0m\u001b[0m\n\u001b[0m\u001b[1;32m      2\u001b[0m \u001b[0mokt_tags\u001b[0m \u001b[0;34m=\u001b[0m \u001b[0mokt_counts\u001b[0m\u001b[0;34m.\u001b[0m\u001b[0mmost_common\u001b[0m\u001b[0;34m(\u001b[0m\u001b[0;36m30\u001b[0m\u001b[0;34m)\u001b[0m\u001b[0;34m\u001b[0m\u001b[0;34m\u001b[0m\u001b[0m\n\u001b[1;32m      3\u001b[0m \u001b[0mokt_cloud\u001b[0m \u001b[0;34m=\u001b[0m \u001b[0mwc\u001b[0m\u001b[0;34m.\u001b[0m\u001b[0mgenerate_from_frequencies\u001b[0m\u001b[0;34m(\u001b[0m\u001b[0mdict\u001b[0m\u001b[0;34m(\u001b[0m\u001b[0mokt_tags\u001b[0m\u001b[0;34m)\u001b[0m\u001b[0;34m)\u001b[0m\u001b[0;34m\u001b[0m\u001b[0;34m\u001b[0m\u001b[0m\n\u001b[1;32m      4\u001b[0m \u001b[0;31m# plt.imshow( ) 를 통해 화면에 보여집니다.\u001b[0m\u001b[0;34m\u001b[0m\u001b[0;34m\u001b[0m\u001b[0m\n\u001b[1;32m      5\u001b[0m \u001b[0mplt\u001b[0m\u001b[0;34m.\u001b[0m\u001b[0mimshow\u001b[0m\u001b[0;34m(\u001b[0m\u001b[0mokt_cloud\u001b[0m\u001b[0;34m)\u001b[0m\u001b[0;34m\u001b[0m\u001b[0;34m\u001b[0m\u001b[0m\n",
            "\u001b[0;32m/usr/lib/python3.9/collections/__init__.py\u001b[0m in \u001b[0;36m__init__\u001b[0;34m(self, iterable, **kwds)\u001b[0m\n\u001b[1;32m    591\u001b[0m         '''\n\u001b[1;32m    592\u001b[0m         \u001b[0msuper\u001b[0m\u001b[0;34m(\u001b[0m\u001b[0;34m)\u001b[0m\u001b[0;34m.\u001b[0m\u001b[0m__init__\u001b[0m\u001b[0;34m(\u001b[0m\u001b[0;34m)\u001b[0m\u001b[0;34m\u001b[0m\u001b[0;34m\u001b[0m\u001b[0m\n\u001b[0;32m--> 593\u001b[0;31m         \u001b[0mself\u001b[0m\u001b[0;34m.\u001b[0m\u001b[0mupdate\u001b[0m\u001b[0;34m(\u001b[0m\u001b[0miterable\u001b[0m\u001b[0;34m,\u001b[0m \u001b[0;34m**\u001b[0m\u001b[0mkwds\u001b[0m\u001b[0;34m)\u001b[0m\u001b[0;34m\u001b[0m\u001b[0;34m\u001b[0m\u001b[0m\n\u001b[0m\u001b[1;32m    594\u001b[0m \u001b[0;34m\u001b[0m\u001b[0m\n\u001b[1;32m    595\u001b[0m     \u001b[0;32mdef\u001b[0m \u001b[0m__missing__\u001b[0m\u001b[0;34m(\u001b[0m\u001b[0mself\u001b[0m\u001b[0;34m,\u001b[0m \u001b[0mkey\u001b[0m\u001b[0;34m)\u001b[0m\u001b[0;34m:\u001b[0m\u001b[0;34m\u001b[0m\u001b[0;34m\u001b[0m\u001b[0m\n",
            "\u001b[0;32m/usr/lib/python3.9/collections/__init__.py\u001b[0m in \u001b[0;36mupdate\u001b[0;34m(self, iterable, **kwds)\u001b[0m\n\u001b[1;32m    677\u001b[0m                     \u001b[0msuper\u001b[0m\u001b[0;34m(\u001b[0m\u001b[0;34m)\u001b[0m\u001b[0;34m.\u001b[0m\u001b[0mupdate\u001b[0m\u001b[0;34m(\u001b[0m\u001b[0miterable\u001b[0m\u001b[0;34m)\u001b[0m\u001b[0;34m\u001b[0m\u001b[0;34m\u001b[0m\u001b[0m\n\u001b[1;32m    678\u001b[0m             \u001b[0;32melse\u001b[0m\u001b[0;34m:\u001b[0m\u001b[0;34m\u001b[0m\u001b[0;34m\u001b[0m\u001b[0m\n\u001b[0;32m--> 679\u001b[0;31m                 \u001b[0m_count_elements\u001b[0m\u001b[0;34m(\u001b[0m\u001b[0mself\u001b[0m\u001b[0;34m,\u001b[0m \u001b[0miterable\u001b[0m\u001b[0;34m)\u001b[0m\u001b[0;34m\u001b[0m\u001b[0;34m\u001b[0m\u001b[0m\n\u001b[0m\u001b[1;32m    680\u001b[0m         \u001b[0;32mif\u001b[0m \u001b[0mkwds\u001b[0m\u001b[0;34m:\u001b[0m\u001b[0;34m\u001b[0m\u001b[0;34m\u001b[0m\u001b[0m\n\u001b[1;32m    681\u001b[0m             \u001b[0mself\u001b[0m\u001b[0;34m.\u001b[0m\u001b[0mupdate\u001b[0m\u001b[0;34m(\u001b[0m\u001b[0mkwds\u001b[0m\u001b[0;34m)\u001b[0m\u001b[0;34m\u001b[0m\u001b[0;34m\u001b[0m\u001b[0m\n",
            "\u001b[0;31mTypeError\u001b[0m: unhashable type: 'list'"
          ]
        }
      ]
    },
    {
      "cell_type": "markdown",
      "metadata": {
        "id": "SlattJTBMI6N"
      },
      "source": [
        "## 4. 문의 유형에 따른 분석\n",
        "### 4-1. *3. 데이터 탐색*에서 실행한 알고리즘을 문의 유형에 따라 실행할 수 있는 함수를 개발합니다.\n",
        "* 아래 text_analysis 함수를 개발합니다."
      ]
    },
    {
      "cell_type": "code",
      "execution_count": null,
      "metadata": {
        "id": "zL_pG-4qMI6N"
      },
      "outputs": [],
      "source": [
        "def text_analysis(df, label=None):\n",
        "    \"\"\"\n",
        "    label에 따라서 분석, label이 None인 경우 전체 분석\n",
        "    데이터 확인, 데이터 길이 시각화\n",
        "    명사 추출하여 분석, 워드 클라우드 시각화\n",
        "\n",
        "    Parameters\n",
        "    ----------\n",
        "    df : pandas DataFrame object.\n",
        "    label : Label for analysis, default=None.\n",
        "    - If label is None, Entire data are analyzed.\n",
        "\n",
        "    Returns\n",
        "    -------\n",
        "    result : None\n",
        "\n",
        "    \"\"\"\n",
        "    pass"
      ]
    },
    {
      "cell_type": "markdown",
      "metadata": {
        "id": "Yp9Ke48EMI6N"
      },
      "source": [
        "### 4-2. 각각의 문의 유형에 대해 실행합니다."
      ]
    },
    {
      "cell_type": "code",
      "execution_count": null,
      "metadata": {
        "id": "yfDaN104MI6N"
      },
      "outputs": [],
      "source": [
        "for label in sorted(train_df.label.unique()):\n",
        "    text_analysis(train_df,label)"
      ]
    },
    {
      "cell_type": "markdown",
      "metadata": {
        "id": "7KRDiqV1MI6N"
      },
      "source": [
        "# 단계2 : 데이터 전처리\n",
        "> * Tokenization(Konlpy...)\n",
        "> * Vectorization(N-grams, Sequence)\n",
        "> * [Google guide](https://developers.google.com/machine-learning/guides/text-classification/step-3)"
      ]
    },
    {
      "cell_type": "markdown",
      "metadata": {
        "id": "vqT47FaOMI6N"
      },
      "source": [
        "## 5. 데이터 준비\n",
        "### 5-1. label 아래 형식으로 처리\n",
        "```python\n",
        "label_dict = {\n",
        "    '코드1': 0,\n",
        "    '코드2': 0,\n",
        "    '웹': 1,\n",
        "    '이론': 2,\n",
        "    '시스템 운영': 3,\n",
        "    '원격': 4\n",
        "}\n",
        "```"
      ]
    },
    {
      "cell_type": "markdown",
      "metadata": {
        "id": "Tz-rwDCxMI6N"
      },
      "source": [
        "### 5-2. Train Validation split"
      ]
    },
    {
      "cell_type": "code",
      "execution_count": null,
      "metadata": {
        "id": "tXlbXrB2MI6N"
      },
      "outputs": [],
      "source": []
    },
    {
      "cell_type": "markdown",
      "metadata": {
        "id": "F1Rq60H9MI6N"
      },
      "source": [
        "## 6. 데이터 처리"
      ]
    },
    {
      "cell_type": "markdown",
      "metadata": {
        "id": "axTM8FHUMI6N"
      },
      "source": [
        "### 6-1. 특수문자 제거(Optional)\n",
        "- [정규표현식 이용](https://docs.python.org/3/howto/regex.html)"
      ]
    },
    {
      "cell_type": "code",
      "execution_count": null,
      "metadata": {
        "id": "700NsOwNMI6N"
      },
      "outputs": [],
      "source": []
    },
    {
      "cell_type": "markdown",
      "metadata": {
        "id": "PkfQOOIHMI6O"
      },
      "source": [
        "### 6-2. N-grams (sklearn)\n",
        "> * [scikit-learn working with text data](https://scikit-learn.org/stable/tutorial/text_analytics/working_with_text_data.html#)\n",
        "> * [scikit-learn text feature extraction](https://scikit-learn.org/stable/modules/feature_extraction.html#text-feature-extraction)\n",
        "> * [한글 자료](https://datascienceschool.net/03%20machine%20learning/03.01.03%20Scikit-Learn%EC%9D%98%20%EB%AC%B8%EC%84%9C%20%EC%A0%84%EC%B2%98%EB%A6%AC%20%EA%B8%B0%EB%8A%A5.html)"
      ]
    },
    {
      "cell_type": "code",
      "execution_count": null,
      "metadata": {
        "id": "AO6YWiRRMI6O"
      },
      "outputs": [],
      "source": []
    },
    {
      "cell_type": "markdown",
      "metadata": {
        "id": "eLUhKFc6MI6O"
      },
      "source": [
        "### 6-3. Sequence (keras, whatever)\n",
        "> * [keras text classification](https://keras.io/examples/nlp/text_classification_from_scratch/)\n",
        "> * [tensorflow text classification](https://www.tensorflow.org/tutorials/keras/text_classification)\n",
        "* tokenizer.fit_on_texts() : 주어진 텍스트 데이터에 대해 단어 사전 생성\n",
        "* 문장 길이 분포 살펴보기\n",
        "* 문장 길이를 구해서 기초통계량, histogram, boxplot을 그려보고 적절한 개수를 결정합니다.\n",
        "* tokenizer.texts_to_sequences() : 주어진 텍스트 데이터를 정수 시퀀스로 변환"
      ]
    },
    {
      "cell_type": "code",
      "execution_count": null,
      "metadata": {
        "id": "airL-E9WMI6O"
      },
      "outputs": [],
      "source": []
    },
    {
      "cell_type": "markdown",
      "metadata": {
        "id": "TCphZeJfMI6O"
      },
      "source": [
        "### 6-4. Word2Vec (gensim, optional) \n",
        "> * [gensim-word2vec-tutorial](https://radimrehurek.com/gensim/auto_examples/tutorials/run_word2vec.html#sphx-glr-auto-examples-tutorials-run-word2vec-py)\n",
        "> * [tensorflow-word2vec-tutorial](https://www.tensorflow.org/tutorials/text/word2vec?hl=ko)"
      ]
    },
    {
      "cell_type": "code",
      "execution_count": null,
      "metadata": {
        "id": "YlvBbqG3MI6O"
      },
      "outputs": [],
      "source": [
        "# 아래 함수는 제공합니다.\n",
        "def get_sent_embeddings(model, embedding_size, tokenized_words):\n",
        "\n",
        "    # 단어 임베딩 및 n_words의 크기가 0인 feature_vec 배열을 0으로 초기화합니다. \n",
        "    # 또한 model.wv.index2word를 사용하여 Word2Vec 모델의 어휘에 단어 세트를 생성합니다.\n",
        "    feature_vec = np.zeros((embedding_size,), dtype='float32')\n",
        "    n_words = 0\n",
        "    index2word_set = set(model.wv.index_to_key)\n",
        "\n",
        "    # 토큰화된 문장의 각 단어를 반복하고 Word2Vec 모델의 어휘에 존재하는지 확인합니다. \n",
        "    # 그렇다면 n_words가 증가하고 단어의 임베딩이 feature_vec에 추가됩니다.\n",
        "    for word in tokenized_words:\n",
        "        if word in index2word_set:\n",
        "            n_words += 1\n",
        "            feature_vec = np.add(feature_vec, model.wv[word])\n",
        "    \n",
        "    # Word2Vec 모델의 어휘에 있는 입력 문장에 단어가 있는지 확인합니다. \n",
        "    # 있다면 feature_vec를 n_words로 나누어 입력 문장의 평균 임베딩을 구합니다.\n",
        "    if (n_words > 0):\n",
        "        feature_vec = np.divide(feature_vec, n_words)\n",
        "        \n",
        "    return feature_vec\n",
        "def get_dataset(sentences, model, num_features):\n",
        "\n",
        "    # 각 문장에 대한 임베딩을 보유할 dataset이라는 빈 목록을 초기화합니다.\n",
        "    dataset = list()\n",
        "\n",
        "    # 문장의 각 문장을 반복하고 앞에서 설명한 get_sent_embeddings() 함수를 사용하여 문장에 대한 평균 임베딩을 생성합니다. \n",
        "    # 결과 문장 임베딩이 데이터 세트 목록에 추가됩니다.\n",
        "    for sent in sentences:\n",
        "        dataset.append(get_sent_embeddings(model, num_features, sent))\n",
        "\n",
        "    # 루프에서 생성된 문장 임베딩을 sent_embedding_vectors라는 2차원 배열에 쌓습니다. \n",
        "    sent_embedding_vectors = np.stack(dataset)\n",
        "    \n",
        "    return sent_embedding_vectors"
      ]
    },
    {
      "cell_type": "code",
      "execution_count": null,
      "metadata": {
        "id": "rb98jqmnMI6O"
      },
      "outputs": [],
      "source": []
    },
    {
      "cell_type": "markdown",
      "metadata": {
        "id": "mdwHW65RMI6O"
      },
      "source": [
        "### 6-5. 데이터 저장하기\n",
        "* N-gram, Sequence로 처리한 데이터 저장\n",
        "* sparse data에 대해서는 scipy.sparse.save_npz 활용"
      ]
    },
    {
      "cell_type": "code",
      "execution_count": null,
      "metadata": {
        "id": "ggPYbeskMI6O"
      },
      "outputs": [],
      "source": []
    }
  ],
  "metadata": {
    "colab": {
      "provenance": [],
      "machine_shape": "hm",
      "include_colab_link": true
    },
    "kernelspec": {
      "display_name": "Python 3",
      "language": "python",
      "name": "python3"
    },
    "language_info": {
      "codemirror_mode": {
        "name": "ipython",
        "version": 3
      },
      "file_extension": ".py",
      "mimetype": "text/x-python",
      "name": "python",
      "nbconvert_exporter": "python",
      "pygments_lexer": "ipython3",
      "version": "3.8.8"
    },
    "accelerator": "GPU",
    "gpuClass": "standard"
  },
  "nbformat": 4,
  "nbformat_minor": 0
}